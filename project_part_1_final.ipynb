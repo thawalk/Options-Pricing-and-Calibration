{
 "cells": [
  {
   "cell_type": "code",
   "execution_count": 1,
   "id": "26e8cdc8-b09d-4b53-8a5c-e50e01b2e215",
   "metadata": {},
   "outputs": [],
   "source": [
    "import numpy as np\n",
    "from scipy.stats import norm"
   ]
  },
  {
   "cell_type": "markdown",
   "id": "578f6d5b-e4c2-4fcd-8ad3-29a369e7fb0b",
   "metadata": {},
   "source": [
    "## Test Parameters"
   ]
  },
  {
   "cell_type": "code",
   "execution_count": 3,
   "id": "57338efb-a083-4518-ab81-382cfec9c233",
   "metadata": {},
   "outputs": [],
   "source": [
    "Sc = 50\n",
    "Kc = 55\n",
    "\n",
    "Sp = 55\n",
    "Kp = 50\n",
    "\n",
    "sigma = 0.2\n",
    "T = 1\n",
    "Rf = 0.1\n",
    "beta = 0.8"
   ]
  },
  {
   "cell_type": "markdown",
   "id": "fdf1e02f-458e-4988-a42b-96d1871fb48c",
   "metadata": {},
   "source": [
    "# Black-Scholes Model"
   ]
  },
  {
   "cell_type": "markdown",
   "id": "ae721756-804b-4a39-9171-7ec3a42373a1",
   "metadata": {},
   "source": [
    "The Black-Scholes model calculates the price of European options under the assumption that the dividend yield \\( q = 0 \\).\n",
    "\n",
    "#### Terms:\n",
    "\n",
    "The terms \\(d1\\) and \\(d2\\) are defined as:\n",
    "\n",
    "$$\n",
    "d_1 = \\frac{\\ln\\left(\\frac{S}{K}\\right) + \\left(r + \\frac{1}{2}\\sigma^2\\right)T}{\\sigma \\sqrt{T}}\n",
    "$$\n",
    "\n",
    "$$\n",
    "d_2 = d_1 - \\sigma \\sqrt{T}\n",
    "$$\n",
    "\n",
    "where:\n",
    "- \\(S\\): Current price of the underlying asset.\n",
    "- \\(K\\): Strike price of the option.\n",
    "- \\(r\\): Risk-free interest rate (annualized).\n",
    "- \\(sigma\\): Volatility of the underlying asset (annualized).\n",
    "- \\(T\\): Time to maturity of the option (in years)."
   ]
  },
  {
   "cell_type": "code",
   "execution_count": 6,
   "id": "f6bddeb0-f0fe-46eb-8604-4ad7953bc1d5",
   "metadata": {},
   "outputs": [],
   "source": [
    "def calculate_black_scholes_d1_d2(S: float, K: float, r: float, T: float, sigma: float) -> tuple[float, float]:\n",
    "    \"\"\"\n",
    "    Calculate the d1 and d2 terms used in the Black-Scholes model.\n",
    "\n",
    "    Parameters:\n",
    "    S (float): Current price of the underlying asset.\n",
    "    K (float): Strike price of the option.\n",
    "    r (float): Risk-free interest rate (annualized).\n",
    "    T (float): Time to maturity of the option (in years).\n",
    "    sigma (float): Volatility of the underlying asset (annualized).\n",
    "\n",
    "    Returns:\n",
    "    tuple[float, float]: (d1, d2) as calculated using the Black-Scholes formulas.\n",
    "    \"\"\"\n",
    "    d1 = (np.log(S / K) + (r + 0.5 * sigma**2) * T) / (sigma * np.sqrt(T))\n",
    "    d2 = d1 - sigma * np.sqrt(T)\n",
    "    return d1, d2"
   ]
  },
  {
   "cell_type": "markdown",
   "id": "66c71dc9-0bb7-44c3-8147-1a70349adce1",
   "metadata": {},
   "source": [
    "### Black Scholes Vanilla Call\n",
    "\n",
    "The price of a European vanilla call option is given by:\n",
    "\n",
    "$$\n",
    "C = S N(d_1) - K e^{-rT} N(d_2)\n",
    "$$"
   ]
  },
  {
   "cell_type": "code",
   "execution_count": 8,
   "id": "a40b1ef0-0875-4313-8af5-d2a94b009d72",
   "metadata": {},
   "outputs": [],
   "source": [
    "def black_scholes_vanilla_call(S: float, K: float, r: float, T: float, sigma: float) -> float:\n",
    "    \"\"\"\n",
    "    Calculate the price of a European vanilla call option using the Black-Scholes model.\n",
    "\n",
    "    Returns:\n",
    "    float: The price of the European vanilla call option.\n",
    "    \"\"\"\n",
    "    d1, d2 = calculate_black_scholes_d1_d2(S, K, r, T, sigma)\n",
    "    return S * norm.cdf(d1) - K * np.exp(-r * T) * norm.cdf(d2)"
   ]
  },
  {
   "cell_type": "code",
   "execution_count": 9,
   "id": "dac93930-1f54-4773-a449-db7af1771241",
   "metadata": {},
   "outputs": [
    {
     "data": {
      "text/plain": [
       "4.09152606430337"
      ]
     },
     "execution_count": 9,
     "metadata": {},
     "output_type": "execute_result"
    }
   ],
   "source": [
    "black_scholes_vanilla_call(Sc, Kc, Rf, T, sigma)"
   ]
  },
  {
   "cell_type": "markdown",
   "id": "53f9a0ca-eee4-46f8-bb07-71351c27bb4c",
   "metadata": {},
   "source": [
    "### Black Scholes Vanilla Put\n",
    "\n",
    "The price of a European vanilla put option is given by:\n",
    "\n",
    "$$\n",
    "P = K e^{-rT} N(-d_2) - S N(-d_1)\n",
    "$$\n"
   ]
  },
  {
   "cell_type": "code",
   "execution_count": 11,
   "id": "5f9caf05-57e6-4ee1-aeb1-b6af2ede3c58",
   "metadata": {},
   "outputs": [],
   "source": [
    "def black_scholes_vanilla_put(S: float, K: float, r: float, T: float, sigma: float) -> float:\n",
    "    \"\"\"\n",
    "    Calculate the price of a European vanilla put option using the Black-Scholes model.\n",
    "\n",
    "    Returns:\n",
    "    float: The price of the European vanilla put option.\n",
    "    \"\"\"\n",
    "    d1, d2 = calculate_black_scholes_d1_d2(S, K, r, T, sigma)\n",
    "    return K * np.exp(-r * T) * norm.cdf(-d2) - S * norm.cdf(-d1)"
   ]
  },
  {
   "cell_type": "code",
   "execution_count": 12,
   "id": "100d6fab-a59d-49b9-abf4-d7828b5f7102",
   "metadata": {},
   "outputs": [
    {
     "data": {
      "text/plain": [
       "0.8662566210801641"
      ]
     },
     "execution_count": 12,
     "metadata": {},
     "output_type": "execute_result"
    }
   ],
   "source": [
    "black_scholes_vanilla_put(Sp, Kp, Rf, T, sigma)"
   ]
  },
  {
   "cell_type": "markdown",
   "id": "4f747d21-9454-4f9b-b40e-d0cef28ba91b",
   "metadata": {},
   "source": [
    "### Black Scholes Digital Cash Or Nothing Call\n",
    "\n",
    "The price of a digital cash-or-nothing call option is given by:\n",
    "\n",
    "$$\n",
    "C_{\\text{digital}} = e^{-rT} N(d_2)\n",
    "$$"
   ]
  },
  {
   "cell_type": "code",
   "execution_count": 14,
   "id": "5fc3226f-650e-4936-a6d3-47d705fb133a",
   "metadata": {},
   "outputs": [],
   "source": [
    "def black_scholes_digital_cash_or_nothing_call(S: float, K: float, r: float, T: float, sigma: float) -> float:\n",
    "    \"\"\"\n",
    "    Calculate the price of a European digital cash-or-nothing call option using the Black-Scholes model.\n",
    "\n",
    "    Returns:\n",
    "    float: The price of the European digital cash-or-nothing call option.\n",
    "    \"\"\"\n",
    "    _, d2 = calculate_black_scholes_d1_d2(S, K, r, T, sigma)\n",
    "    return np.exp(-r * T) * norm.cdf(d2)"
   ]
  },
  {
   "cell_type": "code",
   "execution_count": 15,
   "id": "b58086a8-5875-4748-97ce-d0fbc5688ab5",
   "metadata": {},
   "outputs": [
    {
     "data": {
      "text/plain": [
       "0.4248124909076926"
      ]
     },
     "execution_count": 15,
     "metadata": {},
     "output_type": "execute_result"
    }
   ],
   "source": [
    "black_scholes_digital_cash_or_nothing_call(Sc, Kc, Rf, T, sigma)"
   ]
  },
  {
   "cell_type": "markdown",
   "id": "411b3dc9-b220-437e-8de3-02c03dbf2ccc",
   "metadata": {},
   "source": [
    "### Black Scholes Digital Cash Or Nothing Put\n",
    "\n",
    "The price of a digital cash-or-nothing put option is given by:\n",
    "\n",
    "$$\n",
    "P_{\\text{digital}} = e^{-rT} N(-d_2)\n",
    "$$"
   ]
  },
  {
   "cell_type": "code",
   "execution_count": 17,
   "id": "64b83b3f-f743-4da6-abe2-ed662172e4a9",
   "metadata": {},
   "outputs": [],
   "source": [
    "def black_scholes_digital_cash_or_nothing_put(S: float, K: float, r: float, T: float, sigma: float) -> float:\n",
    "    \"\"\"\n",
    "    Calculate the price of a European digital cash-or-nothing put option using the Black-Scholes model.\n",
    "\n",
    "    Returns:\n",
    "    float: The price of the European digital cash-or-nothing put option.\n",
    "    \"\"\"\n",
    "    _, d2 = calculate_black_scholes_d1_d2(S, K, r, T, sigma)\n",
    "    return np.exp(-r * T) * norm.cdf(-d2)"
   ]
  },
  {
   "cell_type": "code",
   "execution_count": 18,
   "id": "40b8081d-1352-40fc-871c-91756428e528",
   "metadata": {},
   "outputs": [
    {
     "data": {
      "text/plain": [
       "0.17224965499436226"
      ]
     },
     "execution_count": 18,
     "metadata": {},
     "output_type": "execute_result"
    }
   ],
   "source": [
    "black_scholes_digital_cash_or_nothing_put(Sp, Kp, Rf, T, sigma)"
   ]
  },
  {
   "cell_type": "markdown",
   "id": "f465c168-eddd-425e-8bd3-ceb405511285",
   "metadata": {},
   "source": [
    "### Black Scholes Digital Asset Or Nothing Call\n",
    "\n",
    "The price of a digital asset-or-nothing call option is given by:\n",
    "\n",
    "$$\n",
    "C_{\\text{digital}} = S N(d_1)\n",
    "$$"
   ]
  },
  {
   "cell_type": "code",
   "execution_count": 20,
   "id": "ba3d28f9-4da9-42ac-89d8-f383ebf1e460",
   "metadata": {},
   "outputs": [],
   "source": [
    "def black_scholes_digital_asset_or_nothing_call(S: float, K: float, r: float, T: float, sigma: float) -> float:\n",
    "    \"\"\"\n",
    "    Calculate the price of a European digital asset-or-nothing call option using the Black-Scholes model.\n",
    "\n",
    "    Returns:\n",
    "    float: The price of the European digital asset-or-nothing call option.\n",
    "    \"\"\"\n",
    "    d1, _ = calculate_black_scholes_d1_d2(S, K, r, T, sigma)\n",
    "    return S * norm.cdf(d1)"
   ]
  },
  {
   "cell_type": "code",
   "execution_count": 21,
   "id": "404739c3-80a8-4bb5-b908-27800e5461ff",
   "metadata": {},
   "outputs": [
    {
     "data": {
      "text/plain": [
       "27.456213064226464"
      ]
     },
     "execution_count": 21,
     "metadata": {},
     "output_type": "execute_result"
    }
   ],
   "source": [
    "black_scholes_digital_asset_or_nothing_call(Sc, Kc, Rf, T, sigma)"
   ]
  },
  {
   "cell_type": "markdown",
   "id": "c339534e-246c-461b-96ab-5c40e5b8f57f",
   "metadata": {},
   "source": [
    "### Black Scholes Digital Asset Or Nothing Put\n",
    "\n",
    "The price of a digital asset-or-nothing put option is given by:\n",
    "\n",
    "$$\n",
    "P_{\\text{digital}} = S N(-d_1)\n",
    "$$"
   ]
  },
  {
   "cell_type": "code",
   "execution_count": 23,
   "id": "9374a87e-6c09-4118-adba-29fc49641c7c",
   "metadata": {},
   "outputs": [],
   "source": [
    "def black_scholes_digital_asset_or_nothing_put(S: float, K: float, r: float, T: float, sigma: float) -> float:\n",
    "    \"\"\"\n",
    "    Calculate the price of a European digital asset-or-nothing call option using the Black-Scholes model.\n",
    "\n",
    "    Returns:\n",
    "    float: The price of the European digital asset-or-nothing call option.\n",
    "    \"\"\"\n",
    "    d1, _ = calculate_black_scholes_d1_d2(S, K, r, T, sigma)\n",
    "    return S * norm.cdf(-d1)"
   ]
  },
  {
   "cell_type": "code",
   "execution_count": 24,
   "id": "2ac9a7b9-8b2c-4b24-9a31-4d743be75cce",
   "metadata": {},
   "outputs": [
    {
     "data": {
      "text/plain": [
       "7.7462261286379475"
      ]
     },
     "execution_count": 24,
     "metadata": {},
     "output_type": "execute_result"
    }
   ],
   "source": [
    "black_scholes_digital_asset_or_nothing_put(Sp, Kp, Rf, T, sigma)"
   ]
  },
  {
   "cell_type": "markdown",
   "id": "888e5c3a-70e7-45e7-a434-c19bbb427052",
   "metadata": {},
   "source": [
    "# Bachelier Model"
   ]
  },
  {
   "cell_type": "markdown",
   "id": "6835bbce-c201-444e-b080-cf3da344307e",
   "metadata": {},
   "source": [
    "The Bachelier model calculates the price of European options assuming that the underlying asset price follows a normal distribution (instead of the log-normal distribution in Black-Scholes).\n",
    "\n",
    "---\n",
    "\n",
    "#### Adjusting \\(sigma\\):\n",
    "\n",
    "In the Bachelier model, \\(\\sigma\\) (volatility) must be adjusted to account for the absolute scale of the underlying asset price. This is done by computing:\n",
    "\n",
    "$$\n",
    "\\sigma_{\\text{adjusted}} = \\sigma \\cdot S\n",
    "$$\n",
    "\n",
    "where \\(S\\) is the current price of the underlying asset. This adjustment ensures that the volatility reflects the absolute price level of the underlying asset.\n",
    "\n",
    "---\n",
    "\n",
    "### Terms:\n",
    "\n",
    "The term \\(d\\) is defined as:\n",
    "\n",
    "$$\n",
    "d = \\frac{S - K}{\\sigma_{\\text{adjusted}} \\cdot \\sqrt{T}}\n",
    "$$\n",
    "\n",
    "where:\n",
    "- \\(S\\): Current price of the underlying asset.\n",
    "- \\(K\\): Strike price of the option.\n",
    "- \\(T\\): Time to maturity of the option (in years).\n",
    "- \\(sigma_adjusted\\): Adjusted volatility, calculated as \\(sigma * S\\)."
   ]
  },
  {
   "cell_type": "code",
   "execution_count": 27,
   "id": "6b4f6c39-a508-456e-88d6-75db4da27292",
   "metadata": {},
   "outputs": [],
   "source": [
    "def calculate_bachelier_d(S: float, K: float, T: float, sigma: float) -> float:\n",
    "    \"\"\"\n",
    "    Calculate the d term used in the Bachelier model.\n",
    "\n",
    "    Parameters:\n",
    "    S (float): Current price of the underlying asset.\n",
    "    K (float): Strike price of the option.\n",
    "    T (float): Time to maturity of the option (in years).\n",
    "    sigma (float): Volatility of the underlying asset (annualized).\n",
    "\n",
    "    Returns:\n",
    "    float: The d value calculated using the Bachelier model formula.\n",
    "    \"\"\"\n",
    "    return (S - K) / (sigma * np.sqrt(T))"
   ]
  },
  {
   "cell_type": "markdown",
   "id": "1a0b2a2d-a74f-4a88-ada8-38f584b2b6ed",
   "metadata": {},
   "source": [
    "### Bachelier Vanilla Call\n",
    "\n",
    "The price of a European vanilla call option is given by:\n",
    "\n",
    "$$\n",
    "C = e^{-rT}(\\left(S - K\\right) N(d) + \\sigma_{\\text{adjusted}} \\cdot \\sqrt{T} \\cdot N'(d))\n",
    "$$\n"
   ]
  },
  {
   "cell_type": "code",
   "execution_count": 29,
   "id": "c3eb72e4-ad8e-4092-b7f1-4b12400a243e",
   "metadata": {},
   "outputs": [],
   "source": [
    "def bachelier_vanilla_call(S: float, K: float, r: float, T: float, sigma: float) -> float:\n",
    "    \"\"\"\n",
    "    Calculate the price of a European vanilla call option using the Bachelier model.\n",
    "\n",
    "    Returns:\n",
    "    float: The price of the European vanilla call option.\n",
    "    \"\"\"\n",
    "    sigma_adjusted = sigma * S\n",
    "    d = calculate_bachelier_d(S, K, T, sigma_adjusted)\n",
    "    return np.exp(-r * T) * ((S - K) * norm.cdf(d) + sigma_adjusted * np.sqrt(T) * norm.pdf(d))"
   ]
  },
  {
   "cell_type": "code",
   "execution_count": 30,
   "id": "691c64fc-edbd-405e-8b28-68e1a334de62",
   "metadata": {},
   "outputs": [
    {
     "data": {
      "text/plain": [
       "1.7897372629539925"
      ]
     },
     "execution_count": 30,
     "metadata": {},
     "output_type": "execute_result"
    }
   ],
   "source": [
    "bachelier_vanilla_call(Sc, Kc, Rf, T, sigma)"
   ]
  },
  {
   "cell_type": "markdown",
   "id": "fd561504-451a-44cf-bf82-ab0766e7633a",
   "metadata": {},
   "source": [
    "### Bachelier Vanilla Put\n",
    "\n",
    "The price of a European vanilla put option is given by:\n",
    "\n",
    "$$\n",
    "P = e^{-rT}(\\left(K - S\\right) N(-d) + \\sigma_{\\text{adjusted}} \\cdot \\sqrt{T} \\cdot N'(d))\n",
    "$$"
   ]
  },
  {
   "cell_type": "code",
   "execution_count": 32,
   "id": "b2939e8b-668d-4927-9c3f-c0637143bca0",
   "metadata": {},
   "outputs": [],
   "source": [
    "def bachelier_vanilla_put(S: float, K: float, r: float, T: float, sigma: float) -> float:\n",
    "    \"\"\"\n",
    "    Calculate the price of a European vanilla put option using the Bachelier model.\n",
    "\n",
    "    Returns:\n",
    "    float: The price of the European vanilla put option.\n",
    "    \"\"\"\n",
    "    sigma_adjusted = sigma * S\n",
    "    d = calculate_bachelier_d(S, K, T, sigma_adjusted)\n",
    "    return np.exp(-r * T) *((K - S) * norm.cdf(-d) + sigma_adjusted * np.sqrt(T) * norm.pdf(d))"
   ]
  },
  {
   "cell_type": "code",
   "execution_count": 33,
   "id": "9fcbef33-6195-4fe2-aecd-fddfcc688a6a",
   "metadata": {},
   "outputs": [
    {
     "data": {
      "text/plain": [
       "2.1119461148019516"
      ]
     },
     "execution_count": 33,
     "metadata": {},
     "output_type": "execute_result"
    }
   ],
   "source": [
    "bachelier_vanilla_put(Sp, Kp, Rf, T, sigma)"
   ]
  },
  {
   "cell_type": "markdown",
   "id": "9f561aaf-47ed-4ee1-b24f-4eb74ff46e15",
   "metadata": {},
   "source": [
    "### Bachelier Digital Cash or Nothing Call\n",
    "\n",
    "The price of a digital cash-or-nothing call option is given by:\n",
    "\n",
    "$$\n",
    "C_{\\text{digital}} = e^{-rT} N(d)\n",
    "$$"
   ]
  },
  {
   "cell_type": "code",
   "execution_count": 35,
   "id": "652effc8-b372-4e9d-ab0a-baf678e1a091",
   "metadata": {},
   "outputs": [],
   "source": [
    "def bachelier_digital_cash_or_nothing_call(S: float, K: float, r: float, T: float, sigma: float) -> float:\n",
    "    \"\"\"\n",
    "    Calculate the price of a European digital (cash-or-nothing) call option using the Bachelier model.\n",
    "\n",
    "    Returns:\n",
    "    float: The price of the European digital cash-or-nothing call option.\n",
    "    \"\"\"\n",
    "    sigma_adjusted = sigma * S\n",
    "    d = calculate_bachelier_d(S, K, T, sigma_adjusted)\n",
    "    return np.exp(-r * T) * norm.cdf(d)"
   ]
  },
  {
   "cell_type": "code",
   "execution_count": 36,
   "id": "6a2e7d89-1557-4720-802a-9b2b57269ae3",
   "metadata": {},
   "outputs": [
    {
     "data": {
      "text/plain": [
       "0.27917630990799186"
      ]
     },
     "execution_count": 36,
     "metadata": {},
     "output_type": "execute_result"
    }
   ],
   "source": [
    "bachelier_digital_cash_or_nothing_call(Sc, Kc, Rf, T, sigma)"
   ]
  },
  {
   "cell_type": "markdown",
   "id": "ef7c0f02-02db-45f6-b7bb-96c93ed09c1a",
   "metadata": {},
   "source": [
    "### Bachelier Digital Cash or Nothing Put\n",
    "\n",
    "The price of a digital cash-or-nothing put option is given by:\n",
    "\n",
    "$$\n",
    "P_{\\text{digital}} = e^{-rT} N(-d)\n",
    "$$"
   ]
  },
  {
   "cell_type": "code",
   "execution_count": 38,
   "id": "db93f6b5-78e1-4d1c-b312-84277a4b028b",
   "metadata": {},
   "outputs": [],
   "source": [
    "def bachelier_digital_cash_or_nothing_put(S: float, K: float, r: float, T: float, sigma: float) -> float:\n",
    "    \"\"\"\n",
    "    Calculate the price of a European digital (cash-or-nothing) put option using the Bachelier model.\n",
    "\n",
    "    Returns:\n",
    "    float: The price of the European digital cash-or-nothing put option.\n",
    "    \"\"\"\n",
    "    sigma_adjusted = sigma * S\n",
    "    d = calculate_bachelier_d(S, K, T, sigma_adjusted)\n",
    "    return np.exp(-r * T) * norm.cdf(-d)"
   ]
  },
  {
   "cell_type": "code",
   "execution_count": 39,
   "id": "74fa4403-edf6-4fcc-bdb8-2ee7ce66a769",
   "metadata": {},
   "outputs": [
    {
     "data": {
      "text/plain": [
       "0.29381712507309277"
      ]
     },
     "execution_count": 39,
     "metadata": {},
     "output_type": "execute_result"
    }
   ],
   "source": [
    "bachelier_digital_cash_or_nothing_put(Sp, Kp, Rf, T, sigma)"
   ]
  },
  {
   "cell_type": "markdown",
   "id": "85648b73-02ce-46ae-801c-63ba097e9219",
   "metadata": {},
   "source": [
    "### Bachelier Digital Asset or Nothing Call\n",
    "\n",
    "The price of a digital asset-or-nothing call option is given by:\n",
    "\n",
    "$$\n",
    "C_{\\text{digital}} = e^{-rT}(S \\cdot N(d) + \\sigma_{\\text{adjusted}} \\cdot \\sqrt{T} \\cdot N'(d))\n",
    "$$"
   ]
  },
  {
   "cell_type": "code",
   "execution_count": 41,
   "id": "01243db6-da76-4cd5-8032-b9b2aa53caac",
   "metadata": {},
   "outputs": [],
   "source": [
    "def bachelier_digital_asset_or_nothing_call(S: float, K: float, r: float, T: float, sigma: float) -> float:\n",
    "    \"\"\"\n",
    "    Calculate the price of a European digital (asset-or-nothing) call option using the Bachelier model.\n",
    "\n",
    "    Returns:\n",
    "    float: The price of the European digital asset-or-nothing call option.\n",
    "    \"\"\"\n",
    "    sigma_adjusted = sigma * S\n",
    "    d = calculate_bachelier_d(S, K, T, sigma_adjusted)\n",
    "    return np.exp(-r * T) * (S * norm.cdf(d) + sigma_adjusted * (T ** 0.5) * norm.pdf(d))"
   ]
  },
  {
   "cell_type": "code",
   "execution_count": 42,
   "id": "719081a9-d94e-4355-b9d8-ee6bcf335745",
   "metadata": {},
   "outputs": [
    {
     "data": {
      "text/plain": [
       "17.144434307893544"
      ]
     },
     "execution_count": 42,
     "metadata": {},
     "output_type": "execute_result"
    }
   ],
   "source": [
    "bachelier_digital_asset_or_nothing_call(Sc, Kc, Rf, T, sigma)"
   ]
  },
  {
   "cell_type": "markdown",
   "id": "4b9eff92-3245-4563-b97d-a0f0acf1b0f5",
   "metadata": {},
   "source": [
    "### Bachelier Digital Asset or Nothing Put\n",
    "\n",
    "The price of a digital asset-or-nothing put option is given by:\n",
    "\n",
    "$$\n",
    "P_{\\text{digital}} = e^{-rT}(S \\cdot N(-d) - \\sigma_{\\text{adjusted}} \\cdot \\sqrt{T} \\cdot N'(-d))\n",
    "$$"
   ]
  },
  {
   "cell_type": "code",
   "execution_count": 44,
   "id": "b6d443c9-c605-44dc-851f-fdc165609000",
   "metadata": {},
   "outputs": [],
   "source": [
    "def bachelier_digital_asset_or_nothing_put(S: float, K: float, r: float, T: float, sigma: float) -> float:\n",
    "    \"\"\"\n",
    "    Calculate the price of a European digital (asset-or-nothing) put option using the Bachelier model.\n",
    "\n",
    "    Returns:\n",
    "    float: The price of the European digital asset-or-nothing put option.\n",
    "    \"\"\"\n",
    "\n",
    "    sigma_adjusted = sigma * S\n",
    "    d = calculate_bachelier_d(S, K, T, sigma_adjusted)\n",
    "    return np.exp(-r * T) * (S * norm.cdf(-d) - sigma_adjusted * (T ** 0.5) * norm.pdf(-d))"
   ]
  },
  {
   "cell_type": "code",
   "execution_count": 45,
   "id": "11e97563-bbe8-4c9e-b7c9-c87a697d46c2",
   "metadata": {},
   "outputs": [
    {
     "data": {
      "text/plain": [
       "12.578910138852686"
      ]
     },
     "execution_count": 45,
     "metadata": {},
     "output_type": "execute_result"
    }
   ],
   "source": [
    "bachelier_digital_asset_or_nothing_put(Sp, Kp, Rf, T, sigma)"
   ]
  },
  {
   "cell_type": "markdown",
   "id": "52d874d6-b794-4930-9610-72a180900f9c",
   "metadata": {},
   "source": [
    "# Black 76 Model"
   ]
  },
  {
   "cell_type": "markdown",
   "id": "238572a6-fcba-41a8-af59-14e5955bfa95",
   "metadata": {},
   "source": [
    "The Black model (also known as the Black-76 model) calculates the price of European options on forward or futures prices. It assumes the forward price follows a log-normal distribution and is widely used for pricing options on futures contracts.\n",
    "\n",
    "#### Terms:\n",
    "\n",
    "The terms \\(d1\\) and \\(d2\\) are calculated as:\n",
    "\n",
    "$$\n",
    "d_1 = \\frac{\\ln(F / K) + \\frac{1}{2}\\sigma^2 T}{\\sigma \\sqrt{T}}\n",
    "$$\n",
    "\n",
    "$$\n",
    "d_2 = d_1 - \\sigma \\sqrt{T}\n",
    "$$\n",
    "\n",
    "where:\n",
    "- \\(F\\): Forward price of the underlying asset.\n",
    "- \\(K\\): Strike price of the option.\n",
    "- \\(T\\): Time to maturity of the option (in years).\n",
    "- \\(sigma\\): Volatility of the underlying asset (annualized)."
   ]
  },
  {
   "cell_type": "code",
   "execution_count": 48,
   "id": "3e89492d-f7fa-4264-a5d7-2afe06b4e23f",
   "metadata": {},
   "outputs": [],
   "source": [
    "def calculate_black_model_d1_d2(F: float, K: float, T: float, sigma: float) -> tuple[float, float]:\n",
    "    \"\"\"\n",
    "    Calculate the d1 and d2 terms used in the Black model.\n",
    "\n",
    "    Parameters:\n",
    "    F (float): Forward price of the underlying asset.\n",
    "    K (float): Strike price of the option.\n",
    "    T (float): Time to maturity of the option (in years).\n",
    "    sigma (float): Volatility of the underlying asset (annualized).\n",
    "\n",
    "    Returns:\n",
    "    tuple[float, float]: The calculated d1 and d2 values.\n",
    "    \"\"\"\n",
    "    d1 = (np.log(F / K) + 0.5 * sigma**2 * T) / (sigma * np.sqrt(T))\n",
    "    d2 = d1 - sigma * np.sqrt(T)\n",
    "    return d1, d2"
   ]
  },
  {
   "cell_type": "markdown",
   "id": "f70e9ea8-3742-460f-87fd-bf8dcda1e879",
   "metadata": {},
   "source": [
    "### Black Vanilla Call\n",
    "\n",
    "The price of a European vanilla call option is given by:\n",
    "\n",
    "$$\n",
    "C = e^{-rT} \\cdot \\left[ F \\cdot N(d_1) - K \\cdot N(d_2) \\right]\n",
    "$$"
   ]
  },
  {
   "cell_type": "code",
   "execution_count": 50,
   "id": "b03450c1-c5b9-4c4f-8128-8001350a7be5",
   "metadata": {},
   "outputs": [],
   "source": [
    "def black_model_vanilla_call(S: float, K: float, r: float, T: float, sigma: float) -> float:\n",
    "    \"\"\"\n",
    "    Calculate the price of a European vanilla call option using the Black model.\n",
    "\n",
    "    Returns:\n",
    "    float: The price of the European vanilla call option.\n",
    "    \"\"\"\n",
    "    F = S * np.exp(r * T)\n",
    "    d1, d2 = calculate_black_model_d1_d2(F, K, T, sigma)\n",
    "    return np.exp(-r * T) * (F * norm.cdf(d1) - K * norm.cdf(d2))"
   ]
  },
  {
   "cell_type": "code",
   "execution_count": 51,
   "id": "6bda3952-6d28-4c36-a4cb-0ab0c42fd302",
   "metadata": {},
   "outputs": [
    {
     "data": {
      "text/plain": [
       "4.0915260643033715"
      ]
     },
     "execution_count": 51,
     "metadata": {},
     "output_type": "execute_result"
    }
   ],
   "source": [
    "black_model_vanilla_call(Sc, Kc, Rf, T, sigma)"
   ]
  },
  {
   "cell_type": "markdown",
   "id": "8cc281fd-a0e8-4749-8620-b908da7a82c3",
   "metadata": {},
   "source": [
    "### Black Vanilla Put\n",
    "\n",
    "The price of a European vanilla put option is given by:\n",
    "\n",
    "$$\n",
    "P = e^{-rT} \\cdot \\left[ K \\cdot N(-d_2) - F \\cdot N(-d_1) \\right]\n",
    "$$"
   ]
  },
  {
   "cell_type": "code",
   "execution_count": 53,
   "id": "b3f1ed1b-0945-4269-a439-56acc90e2955",
   "metadata": {},
   "outputs": [],
   "source": [
    "def black_model_vanilla_put(S: float, K: float, r: float, T: float, sigma: float) -> float:\n",
    "    \"\"\"\n",
    "    Calculate the price of a European vanilla put option using the Black model.\n",
    "\n",
    "    Returns:\n",
    "    float: The price of the European vanilla put option.\n",
    "    \"\"\"\n",
    "    F = S * np.exp(r * T)\n",
    "    d1, d2 = calculate_black_model_d1_d2(F, K, T, sigma)\n",
    "    return np.exp(-r * T) * (K * norm.cdf(-d2) - F * norm.cdf(-d1))"
   ]
  },
  {
   "cell_type": "code",
   "execution_count": 54,
   "id": "cfa801dc-87c5-4abd-8b3a-baa574a82db5",
   "metadata": {},
   "outputs": [
    {
     "data": {
      "text/plain": [
       "0.866256621080164"
      ]
     },
     "execution_count": 54,
     "metadata": {},
     "output_type": "execute_result"
    }
   ],
   "source": [
    "black_model_vanilla_put(Sp, Kp, Rf, T, sigma)"
   ]
  },
  {
   "cell_type": "markdown",
   "id": "3f2bd5ab-de0b-4462-ba5f-172d99422ad0",
   "metadata": {},
   "source": [
    "### Black Digital Cash Or Nothing Call\n",
    "\n",
    "The price of a European digital (cash-or-nothing) call option is given by:\n",
    "\n",
    "$$\n",
    "C_{\\text{digital}} = e^{-rT} \\cdot N(d_2)\n",
    "$$"
   ]
  },
  {
   "cell_type": "code",
   "execution_count": 56,
   "id": "7a50ed2f-6566-44ba-82f4-96551347eb97",
   "metadata": {},
   "outputs": [],
   "source": [
    "def black_digital_cash_or_nothing_call(S: float, K: float, r: float, T: float, sigma: float) -> float:\n",
    "    \"\"\"\n",
    "    Calculate the price of a European digital (cash-or-nothing) call option using the Black model.\n",
    "\n",
    "    Returns:\n",
    "    float: The price of the European digital cash-or-nothing call option.\n",
    "    \"\"\"\n",
    "    F = S * np.exp(r * T)\n",
    "    _, d2 = calculate_black_model_d1_d2(F, K, T, sigma)\n",
    "    return np.exp(-r * T) * norm.cdf(d2)"
   ]
  },
  {
   "cell_type": "code",
   "execution_count": 57,
   "id": "a2a8b96d-a39d-4cfe-b6f9-9a28eb3f2d9c",
   "metadata": {},
   "outputs": [
    {
     "data": {
      "text/plain": [
       "0.4248124909076928"
      ]
     },
     "execution_count": 57,
     "metadata": {},
     "output_type": "execute_result"
    }
   ],
   "source": [
    "black_digital_cash_or_nothing_call(Sc, Kc, Rf, T, sigma)"
   ]
  },
  {
   "cell_type": "markdown",
   "id": "52ab74a0-b6dc-4364-82bb-21063a8b84f4",
   "metadata": {},
   "source": [
    "### Black Digital Cash Or Nothing Put\n",
    "\n",
    "The price of a European digital (cash-or-nothing) put option is given by:\n",
    "\n",
    "$$\n",
    "P_{\\text{digital}} = e^{-rT} \\cdot N(-d_2)\n",
    "$$"
   ]
  },
  {
   "cell_type": "code",
   "execution_count": 59,
   "id": "a104d77b-3296-4041-b10b-b9dbeded958b",
   "metadata": {},
   "outputs": [],
   "source": [
    "def black_digital_cash_or_nothing_put(S: float, K: float, r: float, T: float, sigma: float) -> float:\n",
    "    \"\"\"\n",
    "    Calculate the price of a European digital (cash-or-nothing) put option using the Black model.\n",
    "\n",
    "    Returns:\n",
    "    float: The price of the European digital cash-or-nothing put option.\n",
    "    \"\"\"\n",
    "    F = S * np.exp(r * T)\n",
    "    _, d2 = calculate_black_model_d1_d2(F, K, T, sigma)\n",
    "    return np.exp(-r * T) * norm.cdf(-d2)"
   ]
  },
  {
   "cell_type": "code",
   "execution_count": 60,
   "id": "49f6d202-4fb4-4cb9-9993-5c6b39d0f66a",
   "metadata": {},
   "outputs": [
    {
     "data": {
      "text/plain": [
       "0.1722496549943624"
      ]
     },
     "execution_count": 60,
     "metadata": {},
     "output_type": "execute_result"
    }
   ],
   "source": [
    "black_digital_cash_or_nothing_put(Sp, Kp, Rf, T, sigma)"
   ]
  },
  {
   "cell_type": "markdown",
   "id": "081bfccf-afb8-4574-9059-e20e422c362b",
   "metadata": {},
   "source": [
    "### Black Digital Asset Or Nothing Call\n",
    "\n",
    "The price of a European digital (asset-or-nothing) call option is given by:\n",
    "\n",
    "$$\n",
    "C_{\\text{digital}} = e^{-rT} \\cdot F \\cdot N(d_1)\n",
    "$$"
   ]
  },
  {
   "cell_type": "code",
   "execution_count": 62,
   "id": "a524c1ec-72aa-48f6-abf2-dbf09888d4a2",
   "metadata": {},
   "outputs": [],
   "source": [
    "def black_digital_asset_or_nothing_call(S: float, K: float, r: float, T: float, sigma: float) -> float:\n",
    "    \"\"\"\n",
    "    Calculate the price of a European digital (asset-or-nothing) call option using the Black model.\n",
    "\n",
    "    Returns:\n",
    "    float: The price of the European digital asset-or-nothing call option.\n",
    "    \"\"\"\n",
    "    F = S * np.exp(r * T)\n",
    "    d1, _ = calculate_black_model_d1_d2(F, K, T, sigma)\n",
    "    return np.exp(-r * T) * F * norm.cdf(d1)"
   ]
  },
  {
   "cell_type": "code",
   "execution_count": 63,
   "id": "19488024-11ab-4305-8450-0faaafbb7cd0",
   "metadata": {},
   "outputs": [
    {
     "data": {
      "text/plain": [
       "27.456213064226475"
      ]
     },
     "execution_count": 63,
     "metadata": {},
     "output_type": "execute_result"
    }
   ],
   "source": [
    "black_digital_asset_or_nothing_call(Sc, Kc, Rf, T, sigma)"
   ]
  },
  {
   "cell_type": "markdown",
   "id": "aade1259-43a0-4eeb-b319-ec3531eb8760",
   "metadata": {},
   "source": [
    "### Black Digital Asset Or Nothing Put\n",
    "\n",
    "The price of a European digital (asset-or-nothing) put option is given by:\n",
    "\n",
    "$$\n",
    "P_{\\text{digital}} = e^{-rT} \\cdot F \\cdot N(-d_1)\n",
    "$$"
   ]
  },
  {
   "cell_type": "code",
   "execution_count": 65,
   "id": "05f7d776-b5b3-4c73-b0eb-516a024df14f",
   "metadata": {},
   "outputs": [],
   "source": [
    "def black_digital_asset_or_nothing_put(S: float, K: float, r: float, T: float, sigma: float) -> float:\n",
    "    \"\"\"\n",
    "    Calculate the price of a European digital (asset-or-nothing) put option using the Black model.\n",
    "\n",
    "    Returns:\n",
    "    float: The price of the European digital asset-or-nothing put option.\n",
    "    \"\"\"\n",
    "    F = S * np.exp(r * T)\n",
    "    d1, _ = calculate_black_model_d1_d2(F, K, T, sigma)\n",
    "    return np.exp(-r * T) * F * norm.cdf(-d1)"
   ]
  },
  {
   "cell_type": "code",
   "execution_count": 66,
   "id": "d734bbc9-d14e-450c-9219-993a20c218cc",
   "metadata": {},
   "outputs": [
    {
     "data": {
      "text/plain": [
       "7.746226128637956"
      ]
     },
     "execution_count": 66,
     "metadata": {},
     "output_type": "execute_result"
    }
   ],
   "source": [
    "black_digital_asset_or_nothing_put(Sp, Kp, Rf, T, sigma)"
   ]
  },
  {
   "cell_type": "markdown",
   "id": "96314565-0b23-450a-a022-3834f1b313b6",
   "metadata": {},
   "source": [
    "# Displaced Diffusion Model"
   ]
  },
  {
   "cell_type": "markdown",
   "id": "8f693285-bfbc-42da-8bf1-efb8d9d7c49a",
   "metadata": {},
   "source": [
    "The Displaced Diffusion Model generalizes the Black-Scholes model by introducing a displacement factor (\\(\\beta\\)) to adjust for the non-linearity of the forward price. This allows the model to handle skewed implied volatility surfaces more effectively. The model reduces to the Black-Scholes model when beta = 1.\n",
    "\n",
    "---\n",
    "\n",
    "### Adjustments and Simplification to Black Model\n",
    "\n",
    "After deriving the pricing formula, the displaced diffusion model can be directly applied by making three key adjustments:\n",
    "\n",
    "1. **Adjusted Forward Price F_adjusted:**\n",
    "   $$\n",
    "   F_{\\text{adjusted}} = \\frac{F}{\\beta}\n",
    "   $$\n",
    "   where \\(F = S * e^rT\\) is the forward price.\n",
    "\n",
    "2. **Adjusted Strike Price K_adjusted:**\n",
    "   $$\n",
    "   K_{\\text{adjusted}} = K + (1 - \\beta) \\cdot F\n",
    "   $$\n",
    "\n",
    "3. **Adjusted Volatility sigma_adjusted:**\n",
    "   $$\n",
    "   \\sigma_{\\text{adjusted}} = \\sigma \\cdot \\beta\n",
    "   $$\n",
    "\n",
    "Once these adjustments are made, the Black model formulas for option pricing can be applied directly.\n",
    "\n",
    "---\n",
    "\n",
    "### Terms\n",
    "\n",
    "The terms \\(d_1\\) and \\(d_2\\) for the Displaced Diffusion Model are computed using the Black model but with adjusted parameters:\n",
    "\n",
    "$$\n",
    "d_1 = \\frac{\\ln\\left(\\frac{F_{\\text{adjusted}}}{K_{\\text{adjusted}}}\\right) + \\frac{1}{2} \\sigma_{\\text{adjusted}}^2 T}{\\sigma_{\\text{adjusted}} \\sqrt{T}}\n",
    "$$\n",
    "\n",
    "$$\n",
    "d_2 = d_1 - \\sigma_{\\text{adjusted}} \\sqrt{T}\n",
    "$$\n"
   ]
  },
  {
   "cell_type": "code",
   "execution_count": 69,
   "id": "1223cc38-7539-4591-aab6-1cf73927b74e",
   "metadata": {},
   "outputs": [],
   "source": [
    "def calculate_displaced_diffusion_adjustments(S: float, K: float, r: float, T: float, sigma: float, beta: float) -> tuple[float, float, float, float]:\n",
    "    \"\"\"\n",
    "    Calculate the adjusted forward price, adjusted strike price, adjusted volatility, and forward price for the displaced diffusion model.\n",
    "\n",
    "    Parameters:\n",
    "    S (float): Current price of the underlying asset.\n",
    "    K (float): Strike price of the option.\n",
    "    r (float): Risk-free interest rate (annualized).\n",
    "    T (float): Time to maturity of the option (in years).\n",
    "    sigma (float): Volatility of the underlying asset (annualized).\n",
    "    beta (float): Displacement factor (0 <= beta <= 1).\n",
    "\n",
    "    Returns:\n",
    "    tuple[float, float, float]: The adjusted forward price, adjusted strike price and adjusted volatility.\n",
    "    \"\"\"\n",
    "    F = S * np.exp(r * T)\n",
    "    F_adjusted = F / beta\n",
    "    K_adjusted = K + (((1 - beta)/beta) * F)\n",
    "    sigma_adjusted = sigma * beta\n",
    "    return F_adjusted, K_adjusted, sigma_adjusted"
   ]
  },
  {
   "cell_type": "markdown",
   "id": "e3634429-7af7-4a91-bd43-8a17ee9392f5",
   "metadata": {},
   "source": [
    "### Displaced Diffusion Vanilla Call\n",
    "\n",
    "The price of a European vanilla call option is:\n",
    "\n",
    "$$\n",
    "C = e^{-rT} \\left[ F_{\\text{adjusted}} \\cdot N(d_1) - K_{\\text{adjusted}} \\cdot N(d_2) \\right]\n",
    "$$"
   ]
  },
  {
   "cell_type": "code",
   "execution_count": 71,
   "id": "cbc32def-5b9c-4521-931b-5ea1c13c741e",
   "metadata": {},
   "outputs": [],
   "source": [
    "def displaced_diffusion_vanilla_call(S: float, K: float, r: float, T: float, sigma: float, beta: float) -> float:\n",
    "    \"\"\"\n",
    "    Calculate the price of a European vanilla call option using the displaced diffusion model.\n",
    "\n",
    "    Returns:\n",
    "    float: The price of the European vanilla call option.\n",
    "    \"\"\"\n",
    "    F_adjusted, K_adjusted, sigma_adjusted = calculate_displaced_diffusion_adjustments(S, K, r, T, sigma, beta)\n",
    "    d1, d2 = calculate_black_model_d1_d2(F_adjusted, K_adjusted, T, sigma_adjusted)\n",
    "    return np.exp(-r * T) * (F_adjusted * norm.cdf(d1) - K_adjusted * norm.cdf(d2))"
   ]
  },
  {
   "cell_type": "code",
   "execution_count": 72,
   "id": "2d8f2469-d870-41ca-a960-178fd0a5c3c3",
   "metadata": {},
   "outputs": [
    {
     "data": {
      "text/plain": [
       "4.095774300109595"
      ]
     },
     "execution_count": 72,
     "metadata": {},
     "output_type": "execute_result"
    }
   ],
   "source": [
    "displaced_diffusion_vanilla_call(Sc, Kc, Rf, T, sigma, beta)"
   ]
  },
  {
   "cell_type": "markdown",
   "id": "b32b51de-735c-4311-91d3-87592f4d0156",
   "metadata": {},
   "source": [
    "### Displaced Diffusion Vanilla Put\n",
    "\n",
    "The price of a European vanilla put option is:\n",
    "\n",
    "$$\n",
    "P = e^{-rT} \\left[ K_{\\text{adjusted}} \\cdot N(-d_2) - F_{\\text{adjusted}} \\cdot N(-d_1) \\right]\n",
    "$$"
   ]
  },
  {
   "cell_type": "code",
   "execution_count": 74,
   "id": "2e901cf7-79e6-4ee7-a1a6-856df9fa6527",
   "metadata": {},
   "outputs": [],
   "source": [
    "def displaced_diffusion_vanilla_put(S: float, K: float, r: float, T: float, sigma: float, beta: float) -> float:\n",
    "    \"\"\"\n",
    "    Calculate the price of a European vanilla put option using the displaced diffusion model.\n",
    "\n",
    "    Returns:\n",
    "    float: The price of the European vanilla put option.\n",
    "    \"\"\"\n",
    "    F_adjusted, K_adjusted, sigma_adjusted = calculate_displaced_diffusion_adjustments(S, K, r, T, sigma, beta)\n",
    "    d1, d2 = calculate_black_model_d1_d2(F_adjusted, K_adjusted, T, sigma_adjusted)\n",
    "    return np.exp(-r * T) * (K_adjusted * norm.cdf(-d2) - F_adjusted * norm.cdf(-d1))"
   ]
  },
  {
   "cell_type": "code",
   "execution_count": 75,
   "id": "bcad0115-7ef6-4aeb-8fa6-6547b60bb597",
   "metadata": {},
   "outputs": [
    {
     "data": {
      "text/plain": [
       "0.9193893189570274"
      ]
     },
     "execution_count": 75,
     "metadata": {},
     "output_type": "execute_result"
    }
   ],
   "source": [
    "displaced_diffusion_vanilla_put(Sp, Kp, Rf, T, sigma, beta)"
   ]
  },
  {
   "cell_type": "markdown",
   "id": "c3836519-709b-4978-848f-4bec8c247446",
   "metadata": {},
   "source": [
    "### Displaced Diffusion Digital Cash Or Nothing Call\n",
    "\n",
    "The price of a European digital (cash-or-nothing) call option is:\n",
    "\n",
    "$$\n",
    "C_{\\text{digital}} = e^{-rT} \\cdot N(d_2)\n",
    "$$"
   ]
  },
  {
   "cell_type": "code",
   "execution_count": 77,
   "id": "a6979970-e018-4289-8ae9-408055e8ce1c",
   "metadata": {},
   "outputs": [],
   "source": [
    "def displaced_diffusion_digital_cash_or_nothing_call(S: float, K: float, r: float, T: float, sigma: float, beta: float) -> float:\n",
    "    \"\"\"\n",
    "    Calculate the price of a European digital (cash-or-nothing) call option using the displaced diffusion model.\n",
    "\n",
    "    Returns:\n",
    "    float: The price of the European digital cash-or-nothing call option.\n",
    "    \"\"\"\n",
    "    F_adjusted, K_adjusted, sigma_adjusted = calculate_displaced_diffusion_adjustments(S, K, r, T, sigma, beta)\n",
    "    _, d2 = calculate_black_model_d1_d2(F_adjusted, K_adjusted, T, sigma_adjusted)\n",
    "    return np.exp(-r * T) * norm.cdf(d2)"
   ]
  },
  {
   "cell_type": "code",
   "execution_count": 78,
   "id": "45fb99d1-b6ac-4050-9984-01cab68a6f77",
   "metadata": {},
   "outputs": [
    {
     "data": {
      "text/plain": [
       "0.4320119922158511"
      ]
     },
     "execution_count": 78,
     "metadata": {},
     "output_type": "execute_result"
    }
   ],
   "source": [
    "displaced_diffusion_digital_cash_or_nothing_call(Sc, Kc, Rf, T, sigma, beta)"
   ]
  },
  {
   "cell_type": "markdown",
   "id": "3f04a16d-27f5-4c89-9242-a93da918a971",
   "metadata": {},
   "source": [
    "### Displaced Diffusion Digital Cash Or Nothing Put\n",
    "\n",
    "The price of a European digital (cash-or-nothing) put option is:\n",
    "\n",
    "$$\n",
    "P_{\\text{digital}} = e^{-rT} \\cdot N(-d_2)\n",
    "$$"
   ]
  },
  {
   "cell_type": "code",
   "execution_count": 80,
   "id": "d005d235-d95c-4e5a-bc84-26ed975b2f28",
   "metadata": {},
   "outputs": [],
   "source": [
    "def displaced_diffusion_digital_cash_or_nothing_put(S: float, K: float, r: float, T: float, sigma: float, beta: float) -> float:\n",
    "    \"\"\"\n",
    "    Calculate the price of a European digital (cash-or-nothing) put option using the displaced diffusion model.\n",
    "\n",
    "    Returns:\n",
    "    float: The price of the European digital cash-or-nothing put option.\n",
    "    \"\"\"\n",
    "    F_adjusted, K_adjusted, sigma_adjusted = calculate_displaced_diffusion_adjustments(S, K, r, T, sigma, beta)\n",
    "    _, d2 = calculate_black_model_d1_d2(F_adjusted, K_adjusted, T, sigma_adjusted)\n",
    "    return np.exp(-r * T) * norm.cdf(-d2)"
   ]
  },
  {
   "cell_type": "code",
   "execution_count": 81,
   "id": "7632c2a5-9152-4f19-924f-126531896621",
   "metadata": {},
   "outputs": [
    {
     "data": {
      "text/plain": [
       "0.1722051943520237"
      ]
     },
     "execution_count": 81,
     "metadata": {},
     "output_type": "execute_result"
    }
   ],
   "source": [
    "displaced_diffusion_digital_cash_or_nothing_put(Sp, Kp, Rf, T, sigma, beta)"
   ]
  },
  {
   "cell_type": "markdown",
   "id": "2677a1ee-faee-410c-bdf2-dad4f4ce2eec",
   "metadata": {},
   "source": [
    "### Displaced Diffusion Digital Asset Or Nothing Call\n",
    "\n",
    "The price of a European digital (asset-or-nothing) call option differs slightly due to the displacement factor:\n",
    "\n",
    "$$\n",
    "C_{\\text{digital}} = e^{-rT} \\left[ F_{\\text{adjusted}} \\cdot N(d_1) + \\frac{(1 - \\beta)}{\\beta} \\cdot F \\cdot N(d_2) \\right]\n",
    "$$"
   ]
  },
  {
   "cell_type": "code",
   "execution_count": 143,
   "id": "ba9c3bc2-9a32-41b5-a7ec-9c88ddd4bb72",
   "metadata": {},
   "outputs": [],
   "source": [
    "def displaced_diffusion_digital_asset_or_nothing_call(S, K, r, T, sigma, beta):\n",
    "    \"\"\"\n",
    "    Calculate the price of a European digital (asset-or-nothing) call option using the displaced diffusion model.\n",
    "\n",
    "    Returns:\n",
    "    float: The price of the European digital asset-or-nothing call option.\n",
    "    \"\"\"\n",
    "    F = S*np.exp(r*T)\n",
    "    c1 = (np.log(F/(F+beta*(K-F)))+(beta*sigma)**2/2*T)/(beta*sigma*np.sqrt(T))\n",
    "    c2 = c1 - beta*sigma*np.sqrt(T)\n",
    "    return np.exp(-r*T)*(F/beta*norm.cdf(c1) - ((1-beta)/beta)*F*norm.cdf(c2))"
   ]
  },
  {
   "cell_type": "code",
   "execution_count": 145,
   "id": "1bed8639-f9cd-49e4-ae84-de23774b8901",
   "metadata": {
    "scrolled": true
   },
   "outputs": [
    {
     "data": {
      "text/plain": [
       "27.856433871981405"
      ]
     },
     "execution_count": 145,
     "metadata": {},
     "output_type": "execute_result"
    }
   ],
   "source": [
    "displaced_diffusion_digital_asset_or_nothing_call(Sc, Kc, Rf, T, sigma, beta)"
   ]
  },
  {
   "cell_type": "markdown",
   "id": "423d180d-dd74-41b7-8e12-f5a11ebf1d46",
   "metadata": {},
   "source": [
    "### Displaced Diffusion Digital Asset Or Nothing Put\n",
    "\n",
    "The price of a European digital (asset-or-nothing) put option is similarly adjusted:\n",
    "\n",
    "$$\n",
    "P_{\\text{digital}} = e^{-rT} \\left[ F_{\\text{adjusted}} \\cdot N(-d_1) - \\frac{(1 - \\beta)}{\\beta} \\cdot F \\cdot N(-d_2) \\right]\n",
    "$$"
   ]
  },
  {
   "cell_type": "code",
   "execution_count": 148,
   "id": "2fe896e2-ec7d-484c-afdc-ce71204a654c",
   "metadata": {},
   "outputs": [],
   "source": [
    "def displaced_diffusion_digital_asset_or_nothing_call(S, K, r, T, sigma, beta):\n",
    "    \"\"\"\n",
    "    Calculate the price of a European digital (asset-or-nothing) put option using the displaced diffusion model.\n",
    "\n",
    "    Returns:\n",
    "    float: The price of the European digital asset-or-nothing put option.\n",
    "    \"\"\"\n",
    "    F = S*np.exp(r*T)\n",
    "    c1 = (np.log(F/(F+beta*(K-F)))+(beta*sigma)**2/2*T)/(beta*sigma*np.sqrt(T))\n",
    "    c2 = c1 - beta*sigma*np.sqrt(T)\n",
    "    return np.exp(-r*T)*(F/beta*norm.cdf(-c1) - ((1-beta)/beta)*F*norm.cdf(-c2))"
   ]
  },
  {
   "cell_type": "code",
   "execution_count": 150,
   "id": "c457afff-319e-47e3-8e92-94f5c7ad9388",
   "metadata": {},
   "outputs": [
    {
     "data": {
      "text/plain": [
       "7.690870398644157"
      ]
     },
     "execution_count": 150,
     "metadata": {},
     "output_type": "execute_result"
    }
   ],
   "source": [
    "displaced_diffusion_digital_asset_or_nothing_call(Sp, Kp, Rf, T, sigma, beta)"
   ]
  },
  {
   "cell_type": "code",
   "execution_count": null,
   "id": "43770758-558c-493f-997d-6a19b99ddb8f",
   "metadata": {},
   "outputs": [],
   "source": []
  }
 ],
 "metadata": {
  "kernelspec": {
   "display_name": "Python 3 (ipykernel)",
   "language": "python",
   "name": "python3"
  },
  "language_info": {
   "codemirror_mode": {
    "name": "ipython",
    "version": 3
   },
   "file_extension": ".py",
   "mimetype": "text/x-python",
   "name": "python",
   "nbconvert_exporter": "python",
   "pygments_lexer": "ipython3",
   "version": "3.12.2"
  }
 },
 "nbformat": 4,
 "nbformat_minor": 5
}

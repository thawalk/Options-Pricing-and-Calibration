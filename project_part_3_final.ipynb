{
 "cells": [
  {
   "cell_type": "code",
   "execution_count": 1,
   "id": "6e74124c-1f3e-447b-adea-f1ab19799821",
   "metadata": {},
   "outputs": [],
   "source": [
    "import math\n",
    "from math import log, sqrt, exp\n",
    "import numpy as np\n",
    "from scipy.stats import norm\n",
    "from scipy.interpolate import interp1d\n",
    "from scipy.integrate import quad\n",
    "from scipy.optimize import brentq\n",
    "\n",
    "import pandas as pd\n",
    "import datetime as dt\n",
    "import warnings\n",
    "warnings.filterwarnings('ignore') "
   ]
  },
  {
   "cell_type": "code",
   "execution_count": 2,
   "id": "802b544d-c948-4498-915a-7d4358b48faa",
   "metadata": {},
   "outputs": [],
   "source": [
    "SPX_df = pd.read_csv(\"SPX_options.csv\")\n",
    "SPY_df = pd.read_csv(\"SPY_options.csv\")\n",
    "rates_df = pd.read_csv(\"zero_rates_20201201.csv\")"
   ]
  },
  {
   "cell_type": "code",
   "execution_count": 3,
   "id": "bd894e7d-b2f3-4786-91fb-28c999b662b4",
   "metadata": {},
   "outputs": [],
   "source": [
    "SPX_spot=3662.45\n",
    "SPY_spot=366.02\n",
    "\n",
    "# Use at the money strike to get option volatility\n",
    "SPX_strike=3662.45\n",
    "SPY_strike=366.02\n",
    "\n",
    "expiry_date = pd.to_datetime(\"20210115\", format=\"%Y%m%d\")"
   ]
  },
  {
   "cell_type": "markdown",
   "id": "52e1784a-b11a-4c0d-bb86-88ad9d932f70",
   "metadata": {},
   "source": [
    "# Functions"
   ]
  },
  {
   "cell_type": "code",
   "execution_count": 5,
   "id": "7f914552-b283-4283-87af-606773de4025",
   "metadata": {},
   "outputs": [],
   "source": [
    "def h_func(x):\n",
    "    return x ** (1/3) + (3/2) * np.log(x) +10.0"
   ]
  },
  {
   "cell_type": "code",
   "execution_count": 6,
   "id": "faaaba75-12a2-4eba-9a33-299dcdbb409e",
   "metadata": {},
   "outputs": [],
   "source": [
    "def h_prime(x):\n",
    "    return (1/3) * (x**(-2/3)) + (3/2) * (1/x)"
   ]
  },
  {
   "cell_type": "code",
   "execution_count": 7,
   "id": "7361de38-b780-46ae-9a9c-12df1ed223a3",
   "metadata": {},
   "outputs": [],
   "source": [
    "def h_prime_prime(x):\n",
    "    return (-2/9) * (x**(-5/3)) + (3/2) * (-1/(x**2))"
   ]
  },
  {
   "cell_type": "code",
   "execution_count": 8,
   "id": "6c8ce8d1-6f8f-4739-80a0-73938223b788",
   "metadata": {},
   "outputs": [],
   "source": [
    "def calculate_black_scholes_d1_d2(S: float, K: float, r: float, T: float, sigma: float) -> tuple[float, float]:\n",
    "    d1 = (np.log(S / K) + (r + 0.5 * sigma**2) * T) / (sigma * np.sqrt(T))\n",
    "    d2 = d1 - sigma * np.sqrt(T)\n",
    "    return d1, d2"
   ]
  },
  {
   "cell_type": "code",
   "execution_count": 9,
   "id": "4b8c2087-b353-491c-a29b-beaf72c7c7d5",
   "metadata": {},
   "outputs": [],
   "source": [
    "def black_scholes_vanilla_call(S: float, K: float, r: float, T: float, sigma: float) -> float:\n",
    "    d1, d2 = calculate_black_scholes_d1_d2(S, K, r, T, sigma)\n",
    "    return S * norm.cdf(d1) - K * np.exp(-r * T) * norm.cdf(d2)"
   ]
  },
  {
   "cell_type": "code",
   "execution_count": 10,
   "id": "2ce33c29-bba4-47a5-98ad-abfdfac7811e",
   "metadata": {},
   "outputs": [],
   "source": [
    "def black_scholes_vanilla_put(S: float, K: float, r: float, T: float, sigma: float) -> float:\n",
    "    d1, d2 = calculate_black_scholes_d1_d2(S, K, r, T, sigma)\n",
    "    return K * np.exp(-r * T) * norm.cdf(-d2) - S * norm.cdf(-d1)"
   ]
  },
  {
   "cell_type": "code",
   "execution_count": 11,
   "id": "c2e911fc-3cfb-414e-a704-410b48e2697d",
   "metadata": {},
   "outputs": [],
   "source": [
    "def black_scholes_implied_volatility(S, K, r, price, T, payoff):\n",
    "    try:\n",
    "        if (payoff.lower() == 'call'):\n",
    "            impliedVol = brentq(lambda x: price -\n",
    "                                black_scholes_vanilla_call(S, K, r, T, x),\n",
    "                                1e-12, 10.0)\n",
    "        elif (payoff.lower() == 'put'):\n",
    "            impliedVol = brentq(lambda x: price -\n",
    "                                black_scholes_vanilla_put(S, K, r, T, x),\n",
    "                                1e-12, 10.0)\n",
    "        else:\n",
    "            raise NameError('Payoff type not recognized')\n",
    "    except Exception:\n",
    "        impliedVol = np.nan\n",
    "\n",
    "    return impliedVol"
   ]
  },
  {
   "cell_type": "code",
   "execution_count": 12,
   "id": "f5da24bb-dc46-4724-b91b-e6ab7024d292",
   "metadata": {},
   "outputs": [],
   "source": [
    "def calculate_bachelier_d(S: float, K: float, T: float, sigma: float) -> float:\n",
    "    return (S - K) / (sigma * np.sqrt(T))"
   ]
  },
  {
   "cell_type": "code",
   "execution_count": 13,
   "id": "335bb8b6-c2a7-40aa-9e05-03d5362f2471",
   "metadata": {},
   "outputs": [],
   "source": [
    "def bachelier_vanilla_call(S: float, K: float, r: float, T: float, sigma: float) -> float:\n",
    "    sigma_adjusted = sigma * S\n",
    "    d = calculate_bachelier_d(S, K, T, sigma_adjusted)\n",
    "    return np.exp(-r * T) * ((S - K) * norm.cdf(d) + sigma_adjusted * np.sqrt(T) * norm.pdf(d))"
   ]
  },
  {
   "cell_type": "code",
   "execution_count": 14,
   "id": "fcba6fe2-222e-4036-af48-b66d4375c739",
   "metadata": {},
   "outputs": [],
   "source": [
    "def bachelier_vanilla_put(S: float, K: float, r: float, T: float, sigma: float) -> float:\n",
    "    sigma_adjusted = sigma * S\n",
    "    d = calculate_bachelier_d(S, K, T, sigma_adjusted)\n",
    "    return np.exp(-r * T) *((K - S) * norm.cdf(-d) + sigma_adjusted * np.sqrt(T) * norm.pdf(d))"
   ]
  },
  {
   "cell_type": "code",
   "execution_count": 15,
   "id": "7ab575df-60d4-4f44-a8f7-5060593ee99b",
   "metadata": {},
   "outputs": [],
   "source": [
    "def bachelier_implied_volatility(S, K, r, price, T, payoff):\n",
    "    try:\n",
    "        if (payoff.lower() == 'call'):\n",
    "            impliedVol = brentq(lambda x: price -\n",
    "                                 bachelier_vanilla_call(S, K, r, T, x),\n",
    "                                1e-12, 10.0)\n",
    "        elif (payoff.lower() == 'put'):\n",
    "            impliedVol = brentq(lambda x: price -\n",
    "                                bachelier_vanilla_call(S, K, r, T, x),\n",
    "                                1e-12, 10.0)\n",
    "        else:\n",
    "            raise NameError('Payoff type not recognized')\n",
    "    except Exception:\n",
    "        impliedVol = np.nan\n",
    "\n",
    "    return impliedVol"
   ]
  },
  {
   "cell_type": "markdown",
   "id": "f8c68ab9-1f17-453b-89e0-18397dfc306d",
   "metadata": {},
   "source": [
    "# Prepare data for rates"
   ]
  },
  {
   "cell_type": "code",
   "execution_count": 17,
   "id": "cf406563-f6b4-49ac-bb21-cab5623f74bc",
   "metadata": {},
   "outputs": [],
   "source": [
    "rates_df[\"date\"] = pd.to_datetime(rates_df[\"date\"], format=\"%Y%m%d\")\n",
    "rates_df[\"rate_decimal\"] = rates_df[\"rate\"] / 100\n",
    "rates_df = rates_df.drop([\"date\"], axis=1)\n",
    "rates_df.set_index(\"days\", inplace=True)\n",
    "rates_df = rates_df.reindex(np.arange(rates_df.index.min(), rates_df.index.max() + 1))\n",
    "rates_df = rates_df.interpolate(method=\"linear\")"
   ]
  },
  {
   "cell_type": "markdown",
   "id": "4eb01867-7cb6-4e08-ad69-981682cbf0da",
   "metadata": {},
   "source": [
    "# Prepare data for SPX"
   ]
  },
  {
   "cell_type": "code",
   "execution_count": 19,
   "id": "14fb4754-d907-476e-8c6d-a3836745a01c",
   "metadata": {},
   "outputs": [],
   "source": [
    "SPX_df[\"date\"] = pd.to_datetime(SPX_df[\"date\"], format=\"%Y%m%d\")\n",
    "SPX_df[\"exdate\"] = pd.to_datetime(SPX_df[\"exdate\"], format=\"%Y%m%d\")\n",
    "SPX_df[\"days_to_expiry\"] = (SPX_df[\"exdate\"] - SPX_df[\"date\"]) / pd.Timedelta(days=1)\n",
    "SPX_df[\"years_to_expiry\"] = SPX_df[\"days_to_expiry\"] / 365\n",
    "SPX_df[\"mid_price\"] = 0.5 * (SPX_df[\"best_bid\"] + SPX_df[\"best_offer\"])\n",
    "SPX_df[\"strike_price\"] = SPX_df[\"strike_price\"] / 1000\n",
    "SPX_df[\"options_type\"] = SPX_df[\"cp_flag\"].map(lambda x: \"call\" if x == \"C\" else \"put\")\n",
    "SPX_df=SPX_df.merge(rates_df,\n",
    "                    left_on=\"days_to_expiry\",\n",
    "                    right_index=True)\n",
    "# Filter the dataframe to get only exdates which we want\n",
    "SPX_df = SPX_df [SPX_df [\"exdate\"] == expiry_date].reset_index(drop=True)\n",
    "\n",
    "# impl market volatility column\n",
    "SPX_df[\"vols\"] = SPX_df.apply(\n",
    "    lambda x: black_scholes_implied_volatility(\n",
    "        SPX_spot,\n",
    "        x[\"strike_price\"],\n",
    "        x[\"rate_decimal\"],\n",
    "        x[\"mid_price\"],\n",
    "        x[\"years_to_expiry\"],\n",
    "        x[\"options_type\"]\n",
    "    ),\n",
    "    axis=1,\n",
    ")\n",
    "SPX_df.dropna(inplace=True)\n",
    "SPX_df.reset_index(drop=True,inplace=True)"
   ]
  },
  {
   "cell_type": "markdown",
   "id": "7604e270-bf78-478a-b036-e85f2ee1dca0",
   "metadata": {},
   "source": [
    "# Prepare data for SPY"
   ]
  },
  {
   "cell_type": "code",
   "execution_count": 21,
   "id": "c160bea2-eb77-4cb1-bb15-31a06acf28e7",
   "metadata": {},
   "outputs": [],
   "source": [
    "SPY_df[\"date\"] = pd.to_datetime(SPY_df[\"date\"], format=\"%Y%m%d\")\n",
    "SPY_df[\"exdate\"] = pd.to_datetime(SPY_df[\"exdate\"], format=\"%Y%m%d\")\n",
    "SPY_df[\"days_to_expiry\"] = (SPY_df[\"exdate\"] - SPY_df[\"date\"]) / pd.Timedelta(days=1)\n",
    "SPY_df[\"years_to_expiry\"] = SPY_df[\"days_to_expiry\"] / 365\n",
    "SPY_df[\"mid_price\"] = 0.5 * (SPY_df[\"best_bid\"] + SPY_df[\"best_offer\"])\n",
    "SPY_df[\"strike_price\"] = SPY_df[\"strike_price\"] / 1000\n",
    "SPY_df[\"options_type\"] = SPY_df[\"cp_flag\"].map(lambda x: \"call\" if x == \"C\" else \"put\")\n",
    "\n",
    "SPY_df=SPY_df.merge(rates_df,\n",
    "                    left_on=\"days_to_expiry\",\n",
    "                    right_index=True)\n",
    "\n",
    "# Filter the dataframe to get only exdates which we want\n",
    "SPY_df = SPY_df [SPY_df [\"exdate\"] == expiry_date].reset_index(drop=True)\n",
    "\n",
    "# impl market volatility column\n",
    "SPY_df[\"vols\"] = SPY_df.apply(\n",
    "    lambda x: black_scholes_implied_volatility(\n",
    "        SPY_spot,\n",
    "        x[\"strike_price\"],\n",
    "        x[\"rate_decimal\"],\n",
    "        x[\"mid_price\"],\n",
    "        x[\"years_to_expiry\"],\n",
    "        x[\"options_type\"]\n",
    "    ),\n",
    "    axis=1,\n",
    ")\n",
    "SPY_df.dropna(inplace=True)\n",
    "SPY_df.reset_index(drop=True,inplace=True)"
   ]
  },
  {
   "cell_type": "markdown",
   "id": "3dae4d80-005e-4d5f-b666-d0e2f0a70ab4",
   "metadata": {},
   "source": [
    "# Black-Scholes Sigma SPX"
   ]
  },
  {
   "cell_type": "code",
   "execution_count": 23,
   "id": "98d68a43-f68d-4670-89f0-528767df261b",
   "metadata": {},
   "outputs": [],
   "source": [
    "SPX_ATM = np.interp(SPX_strike, \n",
    "                    SPX_df[\"strike_price\"], \n",
    "                    SPX_df[\"mid_price\"])"
   ]
  },
  {
   "cell_type": "code",
   "execution_count": 24,
   "id": "2c281963-05f5-47b1-bf46-c6d5bf37b7d2",
   "metadata": {},
   "outputs": [
    {
     "name": "stdout",
     "output_type": "stream",
     "text": [
      "ATM sigma for SPX using the Black-Scholes model is 0.18748\n"
     ]
    }
   ],
   "source": [
    "SPX_BS_call_sigma = black_scholes_implied_volatility(SPX_spot,\n",
    "                                                     SPX_strike,\n",
    "                                                     SPX_df[\"rate_decimal\"][0],\n",
    "                                                     SPX_ATM,\n",
    "                                                     SPX_df[\"years_to_expiry\"][0],\n",
    "                                                     payoff = 'call')\n",
    "\n",
    "\n",
    "SPX_BS_put_sigma = black_scholes_implied_volatility(SPX_spot,\n",
    "                                                    SPX_strike,\n",
    "                                                    SPX_df[\"rate_decimal\"][0],\n",
    "                                                    SPX_ATM,\n",
    "                                                    SPX_df[\"years_to_expiry\"][0],\n",
    "                                                    payoff = 'put')\n",
    "\n",
    "SPX_ATM_sigma = (SPX_BS_call_sigma + SPX_BS_put_sigma)/2\n",
    "\n",
    "print(f\"ATM sigma for SPX using the Black-Scholes model is {SPX_ATM_sigma:.5f}\")"
   ]
  },
  {
   "cell_type": "markdown",
   "id": "3ae61603-f0cb-4390-946e-802d92daa046",
   "metadata": {},
   "source": [
    "# Bachelier Sigma SPX"
   ]
  },
  {
   "cell_type": "code",
   "execution_count": 26,
   "id": "86841dd4-2d62-476f-a2c4-37a43186b8db",
   "metadata": {},
   "outputs": [
    {
     "name": "stdout",
     "output_type": "stream",
     "text": [
      "ATM sigma for SPX using the Bachelier model is 0.18747\n"
     ]
    }
   ],
   "source": [
    "# Get bachelier sigma from the Black-Scholes price of option to get the Bachelier model volatility equivalent.\n",
    "\n",
    "SPX_bachelier_sigma = (SPX_ATM * np.exp(SPX_df[\"rate_decimal\"][0] * SPX_df[\"years_to_expiry\"][0])) / (SPX_spot * np.sqrt(SPX_df[\"years_to_expiry\"][0] / (2 * np.pi)))\n",
    "\n",
    "print(f\"ATM sigma for SPX using the Bachelier model is {SPX_bachelier_sigma :.5f}\")"
   ]
  },
  {
   "cell_type": "code",
   "execution_count": 27,
   "id": "7dd92ddd-d386-46c8-8985-27588c460495",
   "metadata": {},
   "outputs": [
    {
     "name": "stdout",
     "output_type": "stream",
     "text": [
      "ATM sigma for SPX using the Bachelier model is 0.18747\n"
     ]
    }
   ],
   "source": [
    "SPX_Bachelier_call_sigma = bachelier_implied_volatility(SPX_spot,\n",
    "                                                        SPX_strike,\n",
    "                                                        SPX_df[\"rate_decimal\"][0],\n",
    "                                                        SPX_ATM,\n",
    "                                                        SPX_df[\"years_to_expiry\"][0],\n",
    "                                                        payoff = 'call')\n",
    "\n",
    "\n",
    "SPX_Bachelier_put_sigma = bachelier_implied_volatility(SPX_spot,\n",
    "                                                       SPX_strike,\n",
    "                                                       SPX_df[\"rate_decimal\"][0],\n",
    "                                                       SPX_ATM,\n",
    "                                                       SPX_df[\"years_to_expiry\"][0],\n",
    "                                                       payoff = 'put')\n",
    "\n",
    "SPX_Bachelier_sigma = (SPX_Bachelier_call_sigma + SPX_Bachelier_put_sigma)/2\n",
    "\n",
    "print(f\"ATM sigma for SPX using the Bachelier model is {SPX_Bachelier_sigma:.5f}\")"
   ]
  },
  {
   "cell_type": "markdown",
   "id": "4f243a43-fae3-4412-a0df-d2f743142b83",
   "metadata": {},
   "source": [
    "# Black-Scholes Sigma for SPY"
   ]
  },
  {
   "cell_type": "code",
   "execution_count": 29,
   "id": "712c4a5e-124f-49f2-98b9-6e492e799b68",
   "metadata": {},
   "outputs": [],
   "source": [
    "# Find price of ATM option\n",
    "SPY_ATM = np.interp(SPY_strike, \n",
    "                    SPY_df[\"strike_price\"], \n",
    "                    SPY_df[\"mid_price\"])"
   ]
  },
  {
   "cell_type": "code",
   "execution_count": 30,
   "id": "3c7c55fc-b3c1-4d11-8ca5-5bcc6d4b4fb8",
   "metadata": {},
   "outputs": [
    {
     "name": "stdout",
     "output_type": "stream",
     "text": [
      "ATM sigma for SPY using the Black-Scholes model is 0.19684\n"
     ]
    }
   ],
   "source": [
    "SPY_BS_call_sigma = black_scholes_implied_volatility(SPY_spot,\n",
    "                                                     SPY_strike,\n",
    "                                                     SPY_df[\"rate_decimal\"][0],\n",
    "                                                     SPY_ATM,\n",
    "                                                     SPY_df[\"years_to_expiry\"][0],\n",
    "                                                     payoff = 'call')\n",
    "\n",
    "\n",
    "SPY_BS_put_sigma = black_scholes_implied_volatility(SPY_spot,\n",
    "                                                    SPY_strike,\n",
    "                                                    SPY_df[\"rate_decimal\"][0],\n",
    "                                                    SPY_ATM,\n",
    "                                                    SPY_df[\"years_to_expiry\"][0],\n",
    "                                                    payoff = 'put')\n",
    "\n",
    "SPY_ATM_sigma = (SPY_BS_call_sigma + SPY_BS_put_sigma)/2\n",
    "\n",
    "print(f\"ATM sigma for SPY using the Black-Scholes model is {SPY_ATM_sigma:.5f}\")"
   ]
  },
  {
   "cell_type": "markdown",
   "id": "7fede06c-2c4b-42d2-8bdf-87575b8743a7",
   "metadata": {},
   "source": [
    "# Bachelier Sigma for SPY"
   ]
  },
  {
   "cell_type": "code",
   "execution_count": 32,
   "id": "55fed740-142d-445f-823e-899c71e0b3f7",
   "metadata": {},
   "outputs": [
    {
     "name": "stdout",
     "output_type": "stream",
     "text": [
      "ATM sigma for SPY using the Bachelier model is 0.19682\n"
     ]
    }
   ],
   "source": [
    "# Get bachelier sigma from interpolated price of the ATM option\n",
    "SPY_bachelier_sigma = (SPY_ATM * np.exp(SPY_df[\"rate_decimal\"][0] * SPY_df[\"years_to_expiry\"][0])) / (SPY_spot * np.sqrt(SPY_df[\"years_to_expiry\"][0] / (2 * np.pi)))\n",
    "\n",
    "print(f\"ATM sigma for SPY using the Bachelier model is {SPY_bachelier_sigma :.5f}\")"
   ]
  },
  {
   "cell_type": "code",
   "execution_count": 33,
   "id": "c1b0064c-05a5-4222-889c-1556989b52dd",
   "metadata": {},
   "outputs": [
    {
     "name": "stdout",
     "output_type": "stream",
     "text": [
      "ATM sigma for SPY using the Bachelier model is 0.19682\n"
     ]
    }
   ],
   "source": [
    "SPY_Bachelier_call_sigma = bachelier_implied_volatility(SPY_spot,\n",
    "                                                        SPY_strike,\n",
    "                                                        SPY_df[\"rate_decimal\"][0],\n",
    "                                                        SPY_ATM,\n",
    "                                                        SPY_df[\"years_to_expiry\"][0],\n",
    "                                                        payoff = 'call')\n",
    "\n",
    "\n",
    "SPY_Bachelier_put_sigma = bachelier_implied_volatility(SPY_spot,\n",
    "                                                       SPY_strike,\n",
    "                                                       SPY_df[\"rate_decimal\"][0],\n",
    "                                                       SPY_ATM,\n",
    "                                                       SPY_df[\"years_to_expiry\"][0],\n",
    "                                                       payoff = 'put')\n",
    "\n",
    "SPY_Bachelier_sigma = (SPY_Bachelier_call_sigma + SPY_Bachelier_put_sigma)/2\n",
    "\n",
    "print(f\"ATM sigma for SPY using the Bachelier model is {SPY_Bachelier_sigma:.5f}\")"
   ]
  },
  {
   "cell_type": "markdown",
   "id": "bc4e1c8f-8986-4e6f-8ddf-fa5c247eca27",
   "metadata": {},
   "source": [
    "# Exotic No.1 : Black-Scholes\n",
    "\n",
    "Expected Black Scholes payoff is defined as\n",
    "\n",
    "$$\n",
    "E[V_T]= {S_0}^\\frac{1}{3}e^{\\frac{rT}{3}}e^{\\frac{-\\sigma^2T}{9}} + 1.5(log{S_0} + (r-\\frac{\\sigma^2}{2})T) + 10\n",
    "$$\n",
    "\n",
    "The price is\n",
    "\n",
    "$$\n",
    "V_0 = e^{-rT}E[V_T]\n",
    "$$"
   ]
  },
  {
   "cell_type": "code",
   "execution_count": 35,
   "id": "d27a3758-252c-4855-97a3-7ef8b8afc96c",
   "metadata": {},
   "outputs": [],
   "source": [
    "def black_scholes_price(S, rate, sigma, T):\n",
    "    return np.exp(-rate * T) * (\n",
    "        (\n",
    "            np.power(S, 1.0 / 3.0)\n",
    "            * np.exp((rate - 0.5 * sigma**2) * T * (1.0 / 3.0))\n",
    "            * np.exp(0.5 * (1.0 / 9.0) * T * sigma**2)\n",
    "            + 1.5 * (np.log(S) + (rate - 0.5 * sigma**2) * T)\n",
    "            + 10\n",
    "        )\n",
    "    )"
   ]
  },
  {
   "cell_type": "code",
   "execution_count": 36,
   "id": "7e1395ac-db66-4f71-9ba3-a512e740d3d4",
   "metadata": {},
   "outputs": [
    {
     "name": "stdout",
     "output_type": "stream",
     "text": [
      "Price of the Exotic option using the Black-Scholes model with SPX as the underlying is 37.704607\n"
     ]
    }
   ],
   "source": [
    "SPX_BS_price = black_scholes_price(SPX_spot, SPX_df[\"rate_decimal\"][0], SPX_ATM_sigma, SPX_df[\"years_to_expiry\"][0])\n",
    "\n",
    "print(f\"Price of the Exotic option using the Black-Scholes model with SPX as the underlying is {SPX_BS_price:5f}\")"
   ]
  },
  {
   "cell_type": "code",
   "execution_count": 37,
   "id": "7624d2ee-2a7c-4104-8562-eec5a542b619",
   "metadata": {},
   "outputs": [
    {
     "name": "stdout",
     "output_type": "stream",
     "text": [
      "Price of the Exotic option using the Black-Scholes model with SPY as the underlying is 25.994282\n"
     ]
    }
   ],
   "source": [
    "SPY_BS_price = black_scholes_price(SPY_spot, SPY_df[\"rate_decimal\"][0], SPY_ATM_sigma, SPY_df[\"years_to_expiry\"][0])\n",
    "\n",
    "print(f\"Price of the Exotic option using the Black-Scholes model with SPY as the underlying is {SPY_BS_price:5f}\")"
   ]
  },
  {
   "cell_type": "markdown",
   "id": "af990886-3a08-4e5b-96d5-2a5c9a63c66d",
   "metadata": {},
   "source": [
    "# Exotic No.1 : Bachelier\n",
    "\n",
    "Expected Bachelier payoff defined as\n",
    "\n",
    "$$\n",
    "E[V_T] = \\frac{1}{\\sqrt{2\\pi}}\\int_{-\\infty}^{\\infty} (S_0 + \\sigma S_0 \\sqrt{T} x)^\\frac{1}{3} e^\\frac{-x^2}{2}\\,dx +\n",
    "\\frac{1}{\\sqrt{2\\pi}}\\int_{-\\infty}^{\\infty} 1.5log(S_0 + \\sigma S_0 \\sqrt{T} x) e^\\frac{-x^2}{2}\\,dx\n",
    "+10\n",
    "$$\n",
    "\n",
    "Note $$S_T = S_0 + \\sigma S_0W_T$$\n",
    "\n",
    "Therefore, the price is\n",
    "\n",
    "$$\n",
    "V_0 = e^{-rT}E[V_T]\n",
    "$$\n"
   ]
  },
  {
   "cell_type": "code",
   "execution_count": 39,
   "id": "7a6046f4-7538-4e00-b9c2-5e50c19f9f26",
   "metadata": {},
   "outputs": [],
   "source": [
    "def integrand_1(x, S, sigma, T):\n",
    "    return (\n",
    "        (1 / np.sqrt(2 * np.pi))\n",
    "        * np.power((S + sigma * S * np.sqrt(T) * x), 1.0 / 3.0)\n",
    "        * np.exp(-0.5 * np.power(x, 2))\n",
    "    )"
   ]
  },
  {
   "cell_type": "code",
   "execution_count": 40,
   "id": "2bc2c40f-a4db-45cf-b512-6f5bb807cc81",
   "metadata": {},
   "outputs": [],
   "source": [
    "def integrand_2(x, S, sigma, T):\n",
    "    return (\n",
    "        (1 / np.sqrt(2 * np.pi))\n",
    "        * 1.5\n",
    "        * np.log(S + sigma * S * np.sqrt(T) * x)\n",
    "        * np.exp(-0.5 * np.power(x, 2))\n",
    "    )"
   ]
  },
  {
   "cell_type": "code",
   "execution_count": 41,
   "id": "97959598-38fc-478a-b2b1-18539715f10a",
   "metadata": {},
   "outputs": [],
   "source": [
    "def bachelier_price(S, rate, sigma, T):\n",
    "    lower_bound = -1 / (sigma * np.sqrt(T))\n",
    "    I_1 = quad(lambda x: integrand_1(x, S, sigma, T), lower_bound, np.inf)\n",
    "    I_2 = quad(lambda x: integrand_2(x, S, sigma, T), lower_bound, np.inf)\n",
    "    V_0_bachelier = np.exp(-rate * T) * (I_1[0] + I_2[0] + 10)\n",
    "    return V_0_bachelier"
   ]
  },
  {
   "cell_type": "code",
   "execution_count": 42,
   "id": "c7988a58-65cc-4803-89e4-7860daf40425",
   "metadata": {},
   "outputs": [
    {
     "name": "stdout",
     "output_type": "stream",
     "text": [
      "Price of the Exotic option using the Bachelier model with SPX as the underlying is 37.702870\n"
     ]
    }
   ],
   "source": [
    "SPX_Bachelier_price = bachelier_price(SPX_spot, SPX_df[\"rate_decimal\"][0], SPX_ATM_sigma, SPX_df[\"years_to_expiry\"][0])\n",
    "\n",
    "print(f\"Price of the Exotic option using the Bachelier model with SPX as the underlying is {SPX_Bachelier_price:5f}\")"
   ]
  },
  {
   "cell_type": "code",
   "execution_count": 43,
   "id": "2899595a-a353-4d23-9bf7-b086b3fac8bc",
   "metadata": {},
   "outputs": [
    {
     "name": "stdout",
     "output_type": "stream",
     "text": [
      "Price of the Exotic option using the Bachelier model with SPY as the underlying is 25.993253\n"
     ]
    }
   ],
   "source": [
    "SPY_Bachelier_price = bachelier_price(SPY_spot, \n",
    "                                      SPY_df[\"rate_decimal\"][0], \n",
    "                                      SPY_ATM_sigma, \n",
    "                                      SPY_df[\"years_to_expiry\"][0])\n",
    "\n",
    "print(f\"Price of the Exotic option using the Bachelier model with SPY as the underlying is {SPY_Bachelier_price:5f}\")"
   ]
  },
  {
   "cell_type": "markdown",
   "id": "c13ffaf3-4b30-4e41-b6a5-70833fdbcfd7",
   "metadata": {},
   "source": [
    "# Exotic No.1 : SABR\n",
    "\n",
    "For SABR payoff, we must retrieve the volatility using previous calibration result\n",
    "\n",
    "$$\n",
    "h(S_T) = S_T^{\\frac{1}{3}} + 1.5 log(S_T) + 10 \\\\\n",
    "h''(S_T) = -\\frac{2}{9}S_T^{-\\frac{5}{3}} - 1.5\\frac{1}{S_T^2} \\\\\n",
    "F = S_0 e ^ {rT}\n",
    "$$\n",
    "\n",
    "The price is\n",
    "\n",
    "$$\n",
    "V_0 = e^{-rT}h(F) + \\int_{0}^{F} h''(K)P(K) \\,dK + \\int_{F}^{\\infty} h''(K)C(K) \\,dK\n",
    "$$\n"
   ]
  },
  {
   "cell_type": "markdown",
   "id": "3f921fab-e679-4133-b6be-091d1c5fbfc2",
   "metadata": {},
   "source": [
    "### For SPX, from Part 2\n",
    "\n",
    "'45': {'F': 3663.3762493669747,\n",
    "  'alpha': 1.8165044322089068,\n",
    "  'beta': 0.7,\n",
    "  'rho': -0.4043017551686191,\n",
    "  'nu': 2.790158328184338},"
   ]
  },
  {
   "cell_type": "markdown",
   "id": "6b8dd5c5-07d0-49db-986f-ec3e2ed67817",
   "metadata": {},
   "source": [
    "### For SPY, from Part 2\n",
    "\n",
    "'45': {'F': 366.11256803322914,\n",
    "  'alpha': 0.9081326349323565,\n",
    "  'beta': 0.7,\n",
    "  'rho': -0.4887794472282475,\n",
    "  'nu': 2.72851634129598},\n"
   ]
  },
  {
   "cell_type": "code",
   "execution_count": 47,
   "id": "dea6362d-e3bb-4b21-a0eb-b94b6340ce5a",
   "metadata": {},
   "outputs": [],
   "source": [
    "SPX_alpha = 1.8165044322089068\n",
    "SPX_beta = 0.7\n",
    "SPX_rho = -0.4043017551686191\n",
    "SPX_nu = 2.790158328184338"
   ]
  },
  {
   "cell_type": "code",
   "execution_count": 48,
   "id": "f5da4733-abcf-4709-a163-d7b6d349b838",
   "metadata": {},
   "outputs": [],
   "source": [
    "SPY_alpha = 0.9081326349323565\n",
    "SPY_beta = 0.7\n",
    "SPY_rho = -0.4887794472282475\n",
    "SPY_nu = 2.72851634129598"
   ]
  },
  {
   "cell_type": "code",
   "execution_count": 49,
   "id": "d3c8b3dc-8d1d-4a53-af52-d650cff5b266",
   "metadata": {},
   "outputs": [],
   "source": [
    "def SABR(F, K, T, alpha, beta, rho, nu):\n",
    "    X = K\n",
    "    # if K is at-the-money-forward\n",
    "    if abs(F - K) < 1e-12:\n",
    "        numer1 = (((1 - beta)**2)/24)*alpha*alpha/(F**(2 - 2*beta))\n",
    "        numer2 = 0.25*rho*beta*nu*alpha/(F**(1 - beta))\n",
    "        numer3 = ((2 - 3*rho*rho)/24)*nu*nu\n",
    "        VolAtm = alpha*(1 + (numer1 + numer2 + numer3)*T)/(F**(1-beta))\n",
    "        sabrsigma = VolAtm\n",
    "    else:\n",
    "        z = (nu/alpha)*((F*X)**(0.5*(1-beta)))*np.log(F/X)\n",
    "        zhi = np.log((((1 - 2*rho*z + z*z)**0.5) + z - rho)/(1 - rho))\n",
    "        numer1 = (((1 - beta)**2)/24)*((alpha*alpha)/((F*X)**(1 - beta)))\n",
    "        numer2 = 0.25*rho*beta*nu*alpha/((F*X)**((1 - beta)/2))\n",
    "        numer3 = ((2 - 3*rho*rho)/24)*nu*nu\n",
    "        numer = alpha*(1 + (numer1 + numer2 + numer3)*T)*z\n",
    "        denom1 = ((1 - beta)**2/24)*(np.log(F/X))**2\n",
    "        denom2 = (((1 - beta)**4)/1920)*((np.log(F/X))**4)\n",
    "        denom = ((F*X)**((1 - beta)/2))*(1 + denom1 + denom2)*zhi\n",
    "        sabrsigma = numer/denom\n",
    "\n",
    "    return sabrsigma"
   ]
  },
  {
   "cell_type": "code",
   "execution_count": 50,
   "id": "0c4bdf24-6bbf-411c-80f7-d6d86a00b6eb",
   "metadata": {},
   "outputs": [],
   "source": [
    "def SABRCall(S, K, r, alpha, beta, rho, nu, T):\n",
    "    sabr_vol = SABR(S*np.exp(r*T), K, T, alpha, beta, rho, nu)\n",
    "    return black_scholes_vanilla_call(S, K, r, T, sabr_vol)"
   ]
  },
  {
   "cell_type": "code",
   "execution_count": 51,
   "id": "90da9ca1-cb96-45b7-b55a-781fa338d406",
   "metadata": {},
   "outputs": [],
   "source": [
    "def SABRPut(S, K, r, alpha, beta, rho, nu, T):\n",
    "    sabr_vol = SABR(S*np.exp(r*T), K, T, alpha, beta, rho, nu)\n",
    "    return black_scholes_vanilla_put(S, K, r, T, sabr_vol)"
   ]
  },
  {
   "cell_type": "code",
   "execution_count": 52,
   "id": "d693dfeb-8354-4e02-aeda-8f092b9fa632",
   "metadata": {},
   "outputs": [],
   "source": [
    "def sabr_price(S, K, r, alpha, beta, rho, nu, T):\n",
    "    F = S * np.exp(r * T)\n",
    "\n",
    "    I_put = quad(\n",
    "        lambda x: h_prime_prime(x) * SABRPut(S, K, r, alpha, beta, rho, nu, T),\n",
    "        0,\n",
    "        F,\n",
    "    )\n",
    "\n",
    "    I_call = quad(\n",
    "        lambda x: h_prime_prime(x) * SABRCall(S, K, r, alpha, beta, rho, nu, T),\n",
    "        F,\n",
    "        np.inf,\n",
    "    )\n",
    "    V_0_SABR = np.exp(-r * T) * h_func(F) + I_put[0] + I_call[0]\n",
    "    return V_0_SABR"
   ]
  },
  {
   "cell_type": "code",
   "execution_count": 53,
   "id": "c655d53c-8d8a-46a3-a1d4-423eda2cc966",
   "metadata": {},
   "outputs": [
    {
     "name": "stdout",
     "output_type": "stream",
     "text": [
      "Price of the Exotic option using the SABR model with SPX as the underlying is 37.713597\n"
     ]
    }
   ],
   "source": [
    "SPX_SABR_price = sabr_price(SPX_spot, \n",
    "                            SPX_strike,\n",
    "                            SPX_df[\"rate_decimal\"][0], \n",
    "                            SPX_alpha, \n",
    "                            SPX_beta, \n",
    "                            SPX_rho, \n",
    "                            SPX_nu, \n",
    "                            SPX_df[\"years_to_expiry\"][0])\n",
    "\n",
    "print(f\"Price of the Exotic option using the SABR model with SPX as the underlying is {SPX_SABR_price:5f}\")"
   ]
  },
  {
   "cell_type": "code",
   "execution_count": 54,
   "id": "ff0b31b4-dab3-4e9a-a53e-36ba7558b4b7",
   "metadata": {},
   "outputs": [
    {
     "name": "stdout",
     "output_type": "stream",
     "text": [
      "Price of the Exotic option using the SABR model with SPY as the underlying is 26.000677\n"
     ]
    }
   ],
   "source": [
    "SPY_SABR_price = sabr_price(SPY_spot, \n",
    "                            SPY_strike,\n",
    "                            SPY_df[\"rate_decimal\"][0], \n",
    "                            SPY_alpha, \n",
    "                            SPY_beta, \n",
    "                            SPY_rho, \n",
    "                            SPY_nu, \n",
    "                            SPY_df[\"years_to_expiry\"][0])\n",
    "\n",
    "print(f\"Price of the Exotic option using the SABR model with SPY as the underlying is {SPY_SABR_price:5f}\")"
   ]
  },
  {
   "cell_type": "markdown",
   "id": "3e61999d-bbb5-4bc0-a2df-8dc6571d4dee",
   "metadata": {},
   "source": [
    "# Exotic No.2 : Black Scholes\n",
    "\n",
    "$$\n",
    "E\\Biggl[\\int_{0}^{T} \\sigma_t^2 \\,dt\\Biggr] = 2e^{rT}\\Biggl(\\int_{0}^{F} \\frac{P(K)}{K^2} \\,dK + \\int_{F}^{\\infty} \\frac{C(K)}{K^2} \\,dK\\Biggr)\n",
    "$$"
   ]
  },
  {
   "cell_type": "code",
   "execution_count": 56,
   "id": "48c2e541-1791-46b9-8177-88a58a8097fa",
   "metadata": {},
   "outputs": [],
   "source": [
    "def black_scholes_call_integrand(S, K, r, sigma, T):\n",
    "    price = black_scholes_vanilla_call(S, K, r, T, sigma) / K**2\n",
    "    return price"
   ]
  },
  {
   "cell_type": "code",
   "execution_count": 57,
   "id": "cda0aee3-9ddf-4ff1-8c1c-88d8a90e3429",
   "metadata": {},
   "outputs": [],
   "source": [
    "def black_scholes_put_integrand(S, K, r, sigma, T):\n",
    "    price = black_scholes_vanilla_put(S, K, r, T, sigma) / K**2\n",
    "    return price"
   ]
  },
  {
   "cell_type": "code",
   "execution_count": 58,
   "id": "c3c0bb43-0c24-48cc-851a-b1326087896e",
   "metadata": {},
   "outputs": [
    {
     "name": "stdout",
     "output_type": "stream",
     "text": [
      "The integrated variance for SPX using the Black Scholes model is 0.00433\n"
     ]
    }
   ],
   "source": [
    "SPX_forward = SPX_spot * np.exp(SPX_df[\"rate_decimal\"][0] * SPX_df[\"years_to_expiry\"][0])\n",
    "\n",
    "SPX_call_integrated = quad(lambda x: black_scholes_call_integrand(SPX_spot,\n",
    "                                                                  x,\n",
    "                                                                  SPX_df[\"rate_decimal\"][0],\n",
    "                                                                  SPX_ATM_sigma,\n",
    "                                                                  SPX_df[\"years_to_expiry\"][0]), SPX_forward, np.inf)\n",
    "\n",
    "SPX_put_integrated = quad(lambda x: black_scholes_put_integrand(SPX_spot,\n",
    "                                                                x,\n",
    "                                                                SPX_df[\"rate_decimal\"][0],\n",
    "                                                                SPX_ATM_sigma,\n",
    "                                                                SPX_df[\"years_to_expiry\"][0]), 0.0, SPX_forward)\n",
    "\n",
    "SPX_BS_expected_variance = 2 * np.exp(SPX_df[\"rate_decimal\"][0] * SPX_df[\"years_to_expiry\"][0]) * (SPX_put_integrated[0] + SPX_call_integrated[0])\n",
    "\n",
    "print(f\"The integrated variance for SPX using the Black Scholes model is {SPX_BS_expected_variance:.5f}\")"
   ]
  },
  {
   "cell_type": "code",
   "execution_count": 59,
   "id": "3ac9e6a6-a037-4030-99c1-af5069b96f77",
   "metadata": {},
   "outputs": [
    {
     "name": "stdout",
     "output_type": "stream",
     "text": [
      "The integrated variance for SPY using the Black Scholes model is 0.00478\n"
     ]
    }
   ],
   "source": [
    "SPY_forward = SPY_spot * np.exp(SPY_df[\"rate_decimal\"][0] * SPY_df[\"years_to_expiry\"][0])\n",
    "\n",
    "SPY_call_integrated = quad(lambda x: black_scholes_call_integrand(SPY_spot,\n",
    "                                                                  x,\n",
    "                                                                  SPY_df[\"rate_decimal\"][0],\n",
    "                                                                  SPY_ATM_sigma,\n",
    "                                                                  SPY_df[\"years_to_expiry\"][0]), SPY_forward, np.inf)\n",
    "\n",
    "SPY_put_integrated = quad(lambda x: black_scholes_put_integrand(SPY_spot,\n",
    "                                                                x,\n",
    "                                                                SPY_df[\"rate_decimal\"][0],\n",
    "                                                                SPY_ATM_sigma,\n",
    "                                                                SPY_df[\"years_to_expiry\"][0]), 0.0, SPY_forward)\n",
    "\n",
    "SPY_BS_Expected_variance = 2 * np.exp(SPY_df[\"rate_decimal\"][0] * SPY_df[\"years_to_expiry\"][0]) * (SPY_put_integrated[0] + SPY_call_integrated[0])\n",
    "\n",
    "print(f\"The integrated variance for SPY using the Black Scholes model is {SPY_BS_Expected_variance:.5f}\")"
   ]
  },
  {
   "cell_type": "markdown",
   "id": "646ef9b1-3706-4371-9e17-36d90a21cabe",
   "metadata": {},
   "source": [
    "# Exotic No.2 : Bachelier"
   ]
  },
  {
   "cell_type": "code",
   "execution_count": 61,
   "id": "5e3f046a-6901-484b-a00d-f41dc7f0936a",
   "metadata": {},
   "outputs": [],
   "source": [
    "def bachelier_call_integrand(S, K, r, sigma, T):\n",
    "    bachmodel = bachelier_vanilla_call(S, K, r, T, sigma)\n",
    "    return bachmodel / K**2"
   ]
  },
  {
   "cell_type": "code",
   "execution_count": 62,
   "id": "e57e6674-1fe2-4040-8cf9-c25997a89108",
   "metadata": {},
   "outputs": [],
   "source": [
    "def bachelier_put_integrand(S, K, r, sigma, T):\n",
    "    bachmodel = bachelier_vanilla_put(S, K, r, T, sigma)\n",
    "    return bachmodel / K**2"
   ]
  },
  {
   "cell_type": "code",
   "execution_count": 63,
   "id": "a02191f1-8228-4684-a34d-7ab6e556c586",
   "metadata": {},
   "outputs": [
    {
     "name": "stdout",
     "output_type": "stream",
     "text": [
      "The integrated variance for SPX using the Bachelier model is 0.00436\n"
     ]
    }
   ],
   "source": [
    "SPX_forward = SPX_spot * np.exp(SPX_df[\"rate_decimal\"][0] * SPX_df[\"years_to_expiry\"][0])\n",
    "\n",
    "SPX_call_integrated = quad(lambda x: bachelier_call_integrand(SPX_spot,\n",
    "                                                              x,\n",
    "                                                              SPX_df[\"rate_decimal\"][0],\n",
    "                                                              SPX_bachelier_sigma,\n",
    "                                                              SPX_df[\"years_to_expiry\"][0]), SPX_forward, np.inf)\n",
    "\n",
    "SPX_put_integrated = quad(lambda x: bachelier_put_integrand(SPX_spot,\n",
    "                                                            x,\n",
    "                                                            SPX_df[\"rate_decimal\"][0],\n",
    "                                                            SPX_bachelier_sigma,\n",
    "                                                            SPX_df[\"years_to_expiry\"][0]), 0.0, SPX_forward)\n",
    "\n",
    "SPX_bachelier_expected_variance = 2 * np.exp(SPX_df[\"rate_decimal\"][0] * SPX_df[\"years_to_expiry\"][0]) * (SPX_put_integrated[0] + SPX_call_integrated[0])\n",
    "\n",
    "print(f\"The integrated variance for SPX using the Bachelier model is {SPX_bachelier_expected_variance:.5f}\")"
   ]
  },
  {
   "cell_type": "code",
   "execution_count": 64,
   "id": "52eb7af6-b76c-4447-989f-3fdd7e0f7a83",
   "metadata": {},
   "outputs": [
    {
     "name": "stdout",
     "output_type": "stream",
     "text": [
      "The integrated variance for SPY using the Bachelier model is 0.00481\n"
     ]
    }
   ],
   "source": [
    "SPY_forward = SPY_spot * np.exp(SPY_df[\"rate_decimal\"][0] * SPY_df[\"years_to_expiry\"][0])\n",
    "\n",
    "SPY_call_integrated = quad(lambda x: bachelier_call_integrand(SPY_spot,\n",
    "                                                             x,\n",
    "                                                             SPY_df[\"rate_decimal\"][0],\n",
    "                                                             SPY_bachelier_sigma,\n",
    "                                                             SPY_df[\"years_to_expiry\"][0]), SPY_forward, np.inf)\n",
    "\n",
    "SPY_put_integrated = quad(lambda x: bachelier_put_integrand(SPY_spot,\n",
    "                                                            x,\n",
    "                                                            SPY_df[\"rate_decimal\"][0],\n",
    "                                                            SPY_bachelier_sigma,\n",
    "                                                            SPY_df[\"years_to_expiry\"][0]), 0.0, SPY_forward)\n",
    "\n",
    "SPY_bachelier_expected_variance = 2 * np.exp(SPY_df[\"rate_decimal\"][0] * SPY_df[\"years_to_expiry\"][0]) * (SPY_put_integrated[0] + SPY_call_integrated[0])\n",
    "\n",
    "print(f\"The integrated variance for SPY using the Bachelier model is {SPY_bachelier_expected_variance:.5f}\")"
   ]
  },
  {
   "cell_type": "markdown",
   "id": "03019d7e-8f79-4fdc-8b3a-85a53671d65a",
   "metadata": {},
   "source": [
    "# Exotic No.2 : SABR"
   ]
  },
  {
   "cell_type": "code",
   "execution_count": 66,
   "id": "e22fb0b5-8bb9-4183-a4e9-d2cd7fd11bba",
   "metadata": {},
   "outputs": [],
   "source": [
    "def sabr_call_integrand(S, K, r, alpha, beta, rho, nu, T):\n",
    "    price = SABRCall(S, K, r, alpha, beta, rho, nu, T) / K**2\n",
    "    return price"
   ]
  },
  {
   "cell_type": "code",
   "execution_count": 67,
   "id": "e9027f2a-3bc4-4687-9f3d-a6cb047bc55d",
   "metadata": {},
   "outputs": [],
   "source": [
    "def sabr_put_integrand(S, K, r, alpha, beta, rho, nu, T):\n",
    "    price = SABRPut(S, K, r, alpha, beta, rho, nu, T) / K**2\n",
    "    return price"
   ]
  },
  {
   "cell_type": "code",
   "execution_count": 68,
   "id": "af0320a1-d372-4bbc-9d71-56948cbbd90a",
   "metadata": {},
   "outputs": [
    {
     "name": "stdout",
     "output_type": "stream",
     "text": [
      "The integrated variance for SPX using the SABR model is 0.00635\n"
     ]
    }
   ],
   "source": [
    "SPX_forward = SPX_spot * np.exp(SPX_df[\"rate_decimal\"][0] * SPX_df[\"years_to_expiry\"][0])\n",
    "\n",
    "SPX_call_integrated = quad(lambda x: sabr_call_integrand(SPX_spot,\n",
    "                                                         x,\n",
    "                                                         SPX_df[\"rate_decimal\"][0],\n",
    "                                                         SPX_alpha,\n",
    "                                                         SPX_beta,\n",
    "                                                         SPX_rho,\n",
    "                                                         SPX_nu,\n",
    "                                                         SPX_df[\"years_to_expiry\"][0]), SPX_forward, np.inf)\n",
    "\n",
    "SPX_put_integrated = quad(lambda x: sabr_put_integrand(SPX_spot,\n",
    "                                                       x,\n",
    "                                                       SPX_df[\"rate_decimal\"][0],\n",
    "                                                       SPX_alpha,\n",
    "                                                       SPX_beta,\n",
    "                                                       SPX_rho,\n",
    "                                                       SPX_nu,\n",
    "                                                       SPX_df[\"years_to_expiry\"][0]), 0.0, SPX_forward)\n",
    "\n",
    "SPX_SABR_expected_variance = 2 * np.exp(SPX_df[\"rate_decimal\"][0] * SPX_df[\"years_to_expiry\"][0]) * (SPX_put_integrated[0] + SPX_call_integrated[0])\n",
    "\n",
    "print(f\"The integrated variance for SPX using the SABR model is {SPX_SABR_expected_variance:.5f}\")"
   ]
  },
  {
   "cell_type": "code",
   "execution_count": 69,
   "id": "987d75ca-1859-45cd-9378-cfba25db3263",
   "metadata": {},
   "outputs": [
    {
     "name": "stdout",
     "output_type": "stream",
     "text": [
      "The integrated variance for SPY using the SABR model is 0.00602\n"
     ]
    }
   ],
   "source": [
    "SPY_forward = SPY_spot * np.exp(SPY_df[\"rate_decimal\"][0] * SPY_df[\"years_to_expiry\"][0])\n",
    "\n",
    "SPY_call_integrated = quad(lambda x: sabr_call_integrand(SPY_spot,\n",
    "                                                         x,\n",
    "                                                         SPY_df[\"rate_decimal\"][0],\n",
    "                                                         SPY_alpha,\n",
    "                                                         SPY_beta,\n",
    "                                                         SPY_rho,\n",
    "                                                         SPY_nu,\n",
    "                                                         SPY_df[\"years_to_expiry\"][0]), SPY_forward, np.inf)\n",
    "\n",
    "SPY_put_integrated = quad(lambda x: sabr_put_integrand(SPY_spot,\n",
    "                                                        x,\n",
    "                                                        SPY_df[\"rate_decimal\"][0],\n",
    "                                                        SPY_alpha,\n",
    "                                                        SPY_beta,\n",
    "                                                        SPY_rho,\n",
    "                                                        SPY_nu,\n",
    "                                                        SPY_df[\"years_to_expiry\"][0]), 0.0, SPY_forward)\n",
    "\n",
    "SPY_SABR_expected_variance = 2 * np.exp(SPY_df[\"rate_decimal\"][0] * SPY_df[\"years_to_expiry\"][0]) * (SPY_put_integrated[0] + SPY_call_integrated[0])\n",
    "\n",
    "print(f\"The integrated variance for SPY using the SABR model is {SPY_SABR_expected_variance:.5f}\")"
   ]
  },
  {
   "cell_type": "code",
   "execution_count": null,
   "id": "33df4b82-06a9-4bb3-a6ba-be403b13f17d",
   "metadata": {},
   "outputs": [],
   "source": []
  }
 ],
 "metadata": {
  "kernelspec": {
   "display_name": "Python 3 (ipykernel)",
   "language": "python",
   "name": "python3"
  },
  "language_info": {
   "codemirror_mode": {
    "name": "ipython",
    "version": 3
   },
   "file_extension": ".py",
   "mimetype": "text/x-python",
   "name": "python",
   "nbconvert_exporter": "python",
   "pygments_lexer": "ipython3",
   "version": "3.12.2"
  }
 },
 "nbformat": 4,
 "nbformat_minor": 5
}
